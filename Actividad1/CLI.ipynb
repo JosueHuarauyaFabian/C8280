{
  "nbformat": 4,
  "nbformat_minor": 0,
  "metadata": {
    "colab": {
      "provenance": []
    },
    "kernelspec": {
      "name": "python3",
      "display_name": "Python 3"
    },
    "language_info": {
      "name": "python"
    }
  },
  "cells": [
    {
      "cell_type": "markdown",
      "source": [
        "1. **Mire en la parte superior e inferior de data.tsventregado en esta actividad. Piensa en cómo se estructuran los datos. ¿Qué crees que significa cada columna? ¿Qué crees que significa cada fila?**\n",
        "\n",
        "    - `order_id`: Este parece ser el ID de cada pedido. El mismo ID de pedido puede aparecer varias veces si el pedido consta de varios ítems.\n",
        "    - `quantity`: Representa la cantidad del ítem en particular en el pedido.\n",
        "    - `item_name`: Es el nombre del ítem de comida pedido.\n",
        "    - `choice_description`: Proporciona detalles adicionales sobre el ítem, como ingredientes específicos o variaciones. Algunas entradas están marcadas como NULL, lo que probablemente indica que no se especificaron opciones adicionales o variaciones para ese ítem.\n",
        "    - `item_price`: Representa el precio del ítem. Ten en cuenta que probablemente sea el precio total para la cantidad especificada (no el precio por unidad).\n",
        "    \n",
        "   Cada fila de datos representa un ítem de un pedido. Si un pedido consta de varios ítems, cada ítem aparece en una fila separada con el mismo `order_id`.\n",
        "\n"
      ],
      "metadata": {
        "id": "iVk1--ceGPfu"
      }
    },
    {
      "cell_type": "markdown",
      "source": [
        "2. **¿Cuántos pedidos parece haber?**"
      ],
      "metadata": {
        "id": "Gt-8f5ncHfi8"
      }
    },
    {
      "cell_type": "code",
      "execution_count": null,
      "metadata": {
        "id": "bCPOkMUUEwiq",
        "colab": {
          "base_uri": "https://localhost:8080/"
        },
        "outputId": "37d5a553-1f82-4e63-865a-bed398c89ee2"
      },
      "outputs": [
        {
          "output_type": "stream",
          "name": "stdout",
          "text": [
            "Número de pedidos: 1834\n"
          ]
        }
      ],
      "source": [
        "import pandas as pd\n",
        "\n",
        "# Leer el archivo de datos\n",
        "data = pd.read_csv('https://raw.githubusercontent.com/kapumota/Cuadernos/main/CLI/data.tsv', sep='\\t')\n",
        "\n",
        "# Contar el número de pedidos\n",
        "num_orders = data['order_id'].nunique()\n",
        "print(f'Número de pedidos: {num_orders}')"
      ]
    },
    {
      "cell_type": "markdown",
      "source": [
        "3. **¿Cuántas líneas hay en este archivo?**"
      ],
      "metadata": {
        "id": "a24Npb91Hv4g"
      }
    },
    {
      "cell_type": "code",
      "source": [
        "# Contar el número de líneas en el archivo\n",
        "num_lines = data.shape[0]\n",
        "print(f'Número de líneas: {num_lines}')"
      ],
      "metadata": {
        "colab": {
          "base_uri": "https://localhost:8080/"
        },
        "id": "fq3nrOaIH4Mg",
        "outputId": "a5d0183b-e15e-4926-c754-f29ee00874ae"
      },
      "execution_count": null,
      "outputs": [
        {
          "output_type": "stream",
          "name": "stdout",
          "text": [
            "Número de líneas: 4622\n"
          ]
        }
      ]
    },
    {
      "cell_type": "markdown",
      "source": [
        "4. **¿Qué burrito es más popular, steak o chicken?**"
      ],
      "metadata": {
        "id": "YTq8IbyPH8dM"
      }
    },
    {
      "cell_type": "code",
      "source": [
        "# Encontrar el burrito más popular (Steak o Chicken)\n",
        "steak_burrito_orders = data[data['item_name'] == 'Steak Burrito'].shape[0]\n",
        "chicken_burrito_orders = data[data['item_name'] == 'Chicken Burrito'].shape[0]\n",
        "\n",
        "if steak_burrito_orders > chicken_burrito_orders:\n",
        "    print('El burrito de bistec es más popular')\n",
        "elif chicken_burrito_orders > steak_burrito_orders:\n",
        "    print('El burrito de pollo es más popular')\n",
        "else:\n",
        "    print('Los burritos de bistec y pollo son igual de populares')"
      ],
      "metadata": {
        "colab": {
          "base_uri": "https://localhost:8080/"
        },
        "id": "AwsnpFAQIBdn",
        "outputId": "5b0eb2ae-dc5e-40af-c400-8aadcda10afe"
      },
      "execution_count": null,
      "outputs": [
        {
          "output_type": "stream",
          "name": "stdout",
          "text": [
            "El burrito de pollo es más popular\n"
          ]
        }
      ]
    },
    {
      "cell_type": "markdown",
      "source": [
        "5. **¿Los burritos de pollo suelen tener frijoles negros o frijoles pintos?**"
      ],
      "metadata": {
        "id": "NsJWdnxZIEGC"
      }
    },
    {
      "cell_type": "code",
      "source": [
        "# Determinar si los burritos de pollo suelen tener frijoles negros o pintos\n",
        "chicken_burrito_data = data[data['item_name'] == 'Chicken Burrito']\n",
        "black_bean_orders = chicken_burrito_data[chicken_burrito_data['choice_description'].str.contains('Black Beans')].shape[0]\n",
        "pinto_bean_orders = chicken_burrito_data[chicken_burrito_data['choice_description'].str.contains('Pinto Beans')].shape[0]\n",
        "\n",
        "if black_bean_orders > pinto_bean_orders:\n",
        "    print('Los burritos de pollo suelen tener frijoles negros')\n",
        "elif pinto_bean_orders > black_bean_orders:\n",
        "    print('Los burritos de pollo suelen tener frijoles pintos')\n",
        "else:\n",
        "    print('Los burritos de pollo tienen frijoles negros y pintos con la misma frecuencia')"
      ],
      "metadata": {
        "colab": {
          "base_uri": "https://localhost:8080/"
        },
        "id": "CR7gGd47IInJ",
        "outputId": "928f552f-c660-4e9f-8b32-2b20452a4741"
      },
      "execution_count": null,
      "outputs": [
        {
          "output_type": "stream",
          "name": "stdout",
          "text": [
            "Los burritos de pollo suelen tener frijoles negros\n"
          ]
        }
      ]
    },
    {
      "cell_type": "markdown",
      "source": [
        "6. **Usa la línea de comandos para descubrir algo interesante sobre los datos dados.**"
      ],
      "metadata": {
        "id": "WNhTlFfqIMie"
      }
    },
    {
      "cell_type": "markdown",
      "source": [
        "Primero, necesitas descargar el archivo de datos en el entorno de Google Colab."
      ],
      "metadata": {
        "id": "eUF_D63EJzNE"
      }
    },
    {
      "cell_type": "code",
      "source": [
        "!wget https://raw.githubusercontent.com/kapumota/Cuadernos/main/CLI/data.tsv"
      ],
      "metadata": {
        "colab": {
          "base_uri": "https://localhost:8080/"
        },
        "id": "b8s01iH6Ivp_",
        "outputId": "054182f7-e201-4c7c-b7bf-67e1e4c345e1"
      },
      "execution_count": null,
      "outputs": [
        {
          "output_type": "stream",
          "name": "stdout",
          "text": [
            "--2023-06-09 03:39:31--  https://raw.githubusercontent.com/kapumota/Cuadernos/main/CLI/data.tsv\n",
            "Resolving raw.githubusercontent.com (raw.githubusercontent.com)... 185.199.108.133, 185.199.109.133, 185.199.110.133, ...\n",
            "Connecting to raw.githubusercontent.com (raw.githubusercontent.com)|185.199.108.133|:443... connected.\n",
            "HTTP request sent, awaiting response... 200 OK\n",
            "Length: 364976 (356K) [text/plain]\n",
            "Saving to: ‘data.tsv.1’\n",
            "\n",
            "data.tsv.1          100%[===================>] 356.42K  --.-KB/s    in 0.04s   \n",
            "\n",
            "2023-06-09 03:39:31 (8.15 MB/s) - ‘data.tsv.1’ saved [364976/364976]\n",
            "\n"
          ]
        }
      ]
    },
    {
      "cell_type": "markdown",
      "source": [
        "Luego, ejecutamos los comandos los comandos de la linea de comandos:\n",
        "\n",
        "Para encontrar el ítem más caro:"
      ],
      "metadata": {
        "id": "-8la2Ig_Ic-d"
      }
    },
    {
      "cell_type": "code",
      "source": [
        "!sort -t$'\\t' -k5 -nr data.tsv | head -n 1"
      ],
      "metadata": {
        "colab": {
          "base_uri": "https://localhost:8080/"
        },
        "id": "lItKVREKIT51",
        "outputId": "f1e6bf3f-6f52-461c-eb6b-45bcba19a514"
      },
      "execution_count": null,
      "outputs": [
        {
          "output_type": "stream",
          "name": "stdout",
          "text": [
            "order_id\tquantity\titem_name\tchoice_description\titem_price\n"
          ]
        }
      ]
    },
    {
      "cell_type": "markdown",
      "source": [
        "Este comando ordena los datos por la columna de precio (columna 5) en orden descendente y muestra la primera línea, que debería ser el ítem más caro."
      ],
      "metadata": {
        "id": "m5UWuTGBJf9c"
      }
    },
    {
      "cell_type": "markdown",
      "source": [
        "Para encontrar el ítem más pedido:"
      ],
      "metadata": {
        "id": "6KKffaXkI6X-"
      }
    },
    {
      "cell_type": "code",
      "source": [
        "!cut -f3 data.tsv | sort | uniq -c | sort -nr | head -n 1"
      ],
      "metadata": {
        "colab": {
          "base_uri": "https://localhost:8080/"
        },
        "id": "5x_-eXoxI9Oe",
        "outputId": "df1cffcc-6451-4a8b-ec3f-866ea1fa9991"
      },
      "execution_count": null,
      "outputs": [
        {
          "output_type": "stream",
          "name": "stdout",
          "text": [
            "    726 Chicken Bowl\n"
          ]
        }
      ]
    },
    {
      "cell_type": "markdown",
      "source": [
        "Este comando extrae la columna del nombre del ítem (columna 3), la ordena, cuenta las apariciones únicas, luego ordena estas cuentas en orden descendente y muestra la primera línea, que debería ser el ítem más pedido."
      ],
      "metadata": {
        "id": "i39DRnsQJqWm"
      }
    }
  ]
}