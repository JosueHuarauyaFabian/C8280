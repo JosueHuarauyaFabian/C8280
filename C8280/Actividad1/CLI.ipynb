{
  "nbformat": 4,
  "nbformat_minor": 0,
  "metadata": {
    "colab": {
      "provenance": [],
      "toc_visible": true
    },
    "kernelspec": {
      "name": "python3",
      "display_name": "Python 3"
    },
    "language_info": {
      "name": "python"
    }
  },
  "cells": [
    {
      "cell_type": "markdown",
      "source": [
        "**Primero, necesitas descargar el archivo de datos en el entorno de Google Colab**"
      ],
      "metadata": {
        "id": "eUF_D63EJzNE"
      }
    },
    {
      "cell_type": "code",
      "source": [
        "!wget https://raw.githubusercontent.com/kapumota/Cuadernos/main/CLI/data.tsv"
      ],
      "metadata": {
        "colab": {
          "base_uri": "https://localhost:8080/"
        },
        "id": "b8s01iH6Ivp_",
        "outputId": "00bd558b-f955-4fb7-ee60-80306b6c10bd"
      },
      "execution_count": 1,
      "outputs": [
        {
          "output_type": "stream",
          "name": "stdout",
          "text": [
            "--2023-06-09 21:13:15--  https://raw.githubusercontent.com/kapumota/Cuadernos/main/CLI/data.tsv\n",
            "Resolving raw.githubusercontent.com (raw.githubusercontent.com)... 185.199.110.133, 185.199.109.133, 185.199.111.133, ...\n",
            "Connecting to raw.githubusercontent.com (raw.githubusercontent.com)|185.199.110.133|:443... connected.\n",
            "HTTP request sent, awaiting response... 200 OK\n",
            "Length: 364976 (356K) [text/plain]\n",
            "Saving to: ‘data.tsv’\n",
            "\n",
            "data.tsv            100%[===================>] 356.42K  --.-KB/s    in 0.04s   \n",
            "\n",
            "2023-06-09 21:13:15 (8.46 MB/s) - ‘data.tsv’ saved [364976/364976]\n",
            "\n"
          ]
        }
      ]
    },
    {
      "cell_type": "markdown",
      "source": [
        "1. **Mire en la parte superior e inferior de data.tsventregado en esta actividad. Piensa en cómo se estructuran los datos. ¿Qué crees que significa cada columna? ¿Qué crees que significa cada fila?**\n",
        "\n",
        "    - `order_id`: Este parece ser el ID de cada pedido. El mismo ID de pedido puede aparecer varias veces si el pedido consta de varios ítems.\n",
        "    - `quantity`: Representa la cantidad del ítem en particular en el pedido.\n",
        "    - `item_name`: Es el nombre del ítem de comida pedido.\n",
        "    - `choice_description`: Proporciona detalles adicionales sobre el ítem, como ingredientes específicos o variaciones. Algunas entradas están marcadas como NULL, lo que probablemente indica que no se especificaron opciones adicionales o variaciones para ese ítem.\n",
        "    - `item_price`: Representa el precio del ítem. Ten en cuenta que probablemente sea el precio total para la cantidad especificada (no el precio por unidad).\n",
        "    \n",
        "   Cada fila de datos representa un ítem de un pedido. Si un pedido consta de varios ítems, cada ítem aparece en una fila separada con el mismo `order_id`.\n",
        "\n"
      ],
      "metadata": {
        "id": "iVk1--ceGPfu"
      }
    },
    {
      "cell_type": "markdown",
      "source": [
        "2. **¿Cuántos pedidos parece haber?**"
      ],
      "metadata": {
        "id": "Gt-8f5ncHfi8"
      }
    },
    {
      "cell_type": "code",
      "execution_count": 2,
      "metadata": {
        "id": "bCPOkMUUEwiq",
        "colab": {
          "base_uri": "https://localhost:8080/"
        },
        "outputId": "8cc614b1-350a-4685-ff90-fd1d87c7c929"
      },
      "outputs": [
        {
          "output_type": "stream",
          "name": "stdout",
          "text": [
            "1836\n"
          ]
        }
      ],
      "source": [
        "!awk -F'\\t' '{print $1}' data.tsv | sort | uniq | wc -l"
      ]
    },
    {
      "cell_type": "markdown",
      "source": [
        "3. **¿Cuántas líneas hay en este archivo?**"
      ],
      "metadata": {
        "id": "a24Npb91Hv4g"
      }
    },
    {
      "cell_type": "code",
      "source": [
        "!wc -l data.tsv"
      ],
      "metadata": {
        "colab": {
          "base_uri": "https://localhost:8080/"
        },
        "id": "fq3nrOaIH4Mg",
        "outputId": "78f4522c-a8b5-4f9c-e516-ec11ae886027"
      },
      "execution_count": 3,
      "outputs": [
        {
          "output_type": "stream",
          "name": "stdout",
          "text": [
            "4624 data.tsv\n"
          ]
        }
      ]
    },
    {
      "cell_type": "markdown",
      "source": [
        "4. **¿Qué burrito es más popular, steak o chicken?**"
      ],
      "metadata": {
        "id": "YTq8IbyPH8dM"
      }
    },
    {
      "cell_type": "code",
      "source": [
        "!echo \"Steak Burrito:\"\n",
        "!grep \"Steak Burrito\" data.tsv | wc -l\n",
        "!echo \"Chicken Burrito:\"\n",
        "!grep \"Chicken Burrito\" data.tsv | wc -l"
      ],
      "metadata": {
        "colab": {
          "base_uri": "https://localhost:8080/"
        },
        "id": "AwsnpFAQIBdn",
        "outputId": "e034919b-cf24-4a17-afa0-e55225b872ce"
      },
      "execution_count": 4,
      "outputs": [
        {
          "output_type": "stream",
          "name": "stdout",
          "text": [
            "Steak Burrito:\n",
            "368\n",
            "Chicken Burrito:\n",
            "553\n"
          ]
        }
      ]
    },
    {
      "cell_type": "markdown",
      "source": [
        "Los burrito de pollo son más popular."
      ],
      "metadata": {
        "id": "KhJjqnxuA3UA"
      }
    },
    {
      "cell_type": "markdown",
      "source": [
        "5. **¿Los burritos de pollo suelen tener frijoles negros o frijoles pintos?**"
      ],
      "metadata": {
        "id": "NsJWdnxZIEGC"
      }
    },
    {
      "cell_type": "code",
      "source": [
        "!echo \"Black Beans:\"\n",
        "!grep \"Chicken Burrito\" data.tsv | grep \"Black Beans\" | wc -l\n",
        "!echo \"Pinto Beans:\"\n",
        "!grep \"Chicken Burrito\" data.tsv | grep \"Pinto Beans\" | wc -l"
      ],
      "metadata": {
        "colab": {
          "base_uri": "https://localhost:8080/"
        },
        "id": "CR7gGd47IInJ",
        "outputId": "b8af80d9-b484-46d0-be2e-47b892adb359"
      },
      "execution_count": 5,
      "outputs": [
        {
          "output_type": "stream",
          "name": "stdout",
          "text": [
            "Black Beans:\n",
            "282\n",
            "Pinto Beans:\n",
            "105\n"
          ]
        }
      ]
    },
    {
      "cell_type": "markdown",
      "source": [
        "Los burritos de pollo suelen tener frijoles negros."
      ],
      "metadata": {
        "id": "rcs_9nDXCCXF"
      }
    },
    {
      "cell_type": "markdown",
      "source": [
        "6. **Usa la línea de comandos para descubrir algo interesante sobre los datos dados.**"
      ],
      "metadata": {
        "id": "WNhTlFfqIMie"
      }
    },
    {
      "cell_type": "markdown",
      "source": [
        "Luego, ejecutamos los comandos los comandos de la linea de comandos:\n",
        "\n",
        "Para encontrar el ítem más caro:"
      ],
      "metadata": {
        "id": "-8la2Ig_Ic-d"
      }
    },
    {
      "cell_type": "code",
      "source": [
        "!sort -t$'\\t' -k5 -nr data.tsv | head -n 1"
      ],
      "metadata": {
        "colab": {
          "base_uri": "https://localhost:8080/"
        },
        "id": "lItKVREKIT51",
        "outputId": "f1e6bf3f-6f52-461c-eb6b-45bcba19a514"
      },
      "execution_count": null,
      "outputs": [
        {
          "output_type": "stream",
          "name": "stdout",
          "text": [
            "order_id\tquantity\titem_name\tchoice_description\titem_price\n"
          ]
        }
      ]
    },
    {
      "cell_type": "markdown",
      "source": [
        "Este comando ordena los datos por la columna de precio (columna 5) en orden descendente y muestra la primera línea, que debería ser el ítem más caro."
      ],
      "metadata": {
        "id": "m5UWuTGBJf9c"
      }
    },
    {
      "cell_type": "markdown",
      "source": [
        "Para encontrar el ítem más pedido:"
      ],
      "metadata": {
        "id": "6KKffaXkI6X-"
      }
    },
    {
      "cell_type": "code",
      "source": [
        "!cut -f3 data.tsv | sort | uniq -c | sort -nr | head -n 1"
      ],
      "metadata": {
        "colab": {
          "base_uri": "https://localhost:8080/"
        },
        "id": "5x_-eXoxI9Oe",
        "outputId": "df1cffcc-6451-4a8b-ec3f-866ea1fa9991"
      },
      "execution_count": null,
      "outputs": [
        {
          "output_type": "stream",
          "name": "stdout",
          "text": [
            "    726 Chicken Bowl\n"
          ]
        }
      ]
    },
    {
      "cell_type": "markdown",
      "source": [
        "Este comando extrae la columna del nombre del ítem (columna 3), la ordena, cuenta las apariciones únicas, luego ordena estas cuentas en orden descendente y muestra la primera línea, que debería ser el ítem más pedido."
      ],
      "metadata": {
        "id": "i39DRnsQJqWm"
      }
    }
  ]
}