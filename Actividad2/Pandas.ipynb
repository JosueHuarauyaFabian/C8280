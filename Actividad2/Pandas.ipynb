{
  "cells": [
    {
      "cell_type": "markdown",
      "metadata": {
        "id": "raUVz0R49bqt"
      },
      "source": [
        "### Pandas\n",
        "\n",
        "\n",
        "Pandas es un paquete Python de código abierto que proporciona estructuras de datos rápidas, flexibles y expresivas diseñadas para que trabajar con datos \"relacionales\" o \"etiquetados\" sea fácil e intuitivo.\n",
        "\n",
        "### Estructuras de datos\n",
        "Pandas presenta dos nuevas estructuras de datos en Python: Series y DataFrame, ambas construidas sobre NumPy (esto significa que es rápido).\n",
        "\n",
        "\n",
        "#### Serie\n",
        "\n",
        "Este es un objeto unidimensional similar a la columna en una hoja de cálculo o tabla SQL. De forma predeterminada, a cada elemento se le asignará una etiqueta de índice de `0` a `N`."
      ]
    },
    {
      "cell_type": "code",
      "execution_count": null,
      "metadata": {
        "id": "_6Ivxpg87Xpu"
      },
      "outputs": [],
      "source": [
        "import pandas as pd\n",
        "import numpy as np\n",
        "import matplotlib.pyplot as plt"
      ]
    },
    {
      "cell_type": "code",
      "execution_count": null,
      "metadata": {
        "colab": {
          "base_uri": "https://localhost:8080/"
        },
        "id": "El1ASrOeAMve",
        "outputId": "3e32bbf3-7f96-45d4-c9a3-5c4f34ff6155"
      },
      "outputs": [
        {
          "output_type": "stream",
          "name": "stdout",
          "text": [
            "A    1.0\n",
            "B    3.0\n",
            "C    4.0\n",
            "D    NaN\n",
            "E    5.0\n",
            "F    6.0\n",
            "dtype: float64\n"
          ]
        }
      ],
      "source": [
        "s = pd.Series([1,3,4,np.nan, 5, 6], index = ['A', 'B', 'C', 'D', 'E', 'F'])\n",
        "print(s)"
      ]
    },
    {
      "cell_type": "markdown",
      "metadata": {
        "id": "1V0ty8qDAwC8"
      },
      "source": [
        "Si creas una serie utilizando el diccionario, la clave se convertirá en el índice de forma predeterminada."
      ]
    },
    {
      "cell_type": "code",
      "execution_count": null,
      "metadata": {
        "colab": {
          "base_uri": "https://localhost:8080/"
        },
        "id": "Gavd17DGAgfV",
        "outputId": "49d75e00-2dec-4f05-d029-a825a33da76d"
      },
      "outputs": [
        {
          "output_type": "execute_result",
          "data": {
            "text/plain": [
              "{'A': 1, 'B': 2, 'C': 3, 'D': nan, 'E': 5, 'F': 6}"
            ]
          },
          "metadata": {},
          "execution_count": 3
        }
      ],
      "source": [
        "dict_ejemplo = {'A': 1, 'B':2, 'C':3, 'D':np.nan, 'E': 5, 'F': 6}\n",
        "dict_ejemplo"
      ]
    },
    {
      "cell_type": "code",
      "execution_count": null,
      "metadata": {
        "colab": {
          "base_uri": "https://localhost:8080/"
        },
        "id": "EDXTx0FlBTHj",
        "outputId": "5a6dfb27-d11e-4874-fda9-7617361584fb"
      },
      "outputs": [
        {
          "output_type": "stream",
          "name": "stdout",
          "text": [
            "A    1.0\n",
            "B    2.0\n",
            "C    3.0\n",
            "D    NaN\n",
            "E    5.0\n",
            "F    6.0\n",
            "dtype: float64\n"
          ]
        }
      ],
      "source": [
        "s = pd.Series(dict_ejemplo)\n",
        "print(s)"
      ]
    },
    {
      "cell_type": "markdown",
      "metadata": {
        "id": "11SD0srbwgHk"
      },
      "source": [
        "La contraparte bidimensional de las series unidimensionales es el DataFrame."
      ]
    },
    {
      "cell_type": "markdown",
      "metadata": {
        "id": "khVQ3e1FBrPA"
      },
      "source": [
        "### DataFrame\n",
        "\n",
        "Es un objeto bidimensional similar a una hoja de cálculo o una tabla SQL. Este es el objeto Pandas más utilizado.\n"
      ]
    },
    {
      "cell_type": "code",
      "execution_count": null,
      "metadata": {
        "colab": {
          "base_uri": "https://localhost:8080/",
          "height": 143
        },
        "id": "HEEaxqFvBZeK",
        "outputId": "37159c22-8384-4190-9bf6-0e3e8851ca99"
      },
      "outputs": [
        {
          "output_type": "execute_result",
          "data": {
            "text/plain": [
              "  Emp_ID Genero  Edad\n",
              "0    E01      F    25\n",
              "1    E02      M    27\n",
              "2    E03      M    25"
            ],
            "text/html": [
              "\n",
              "  <div id=\"df-49168c30-1714-401c-810a-485b7a413d87\">\n",
              "    <div class=\"colab-df-container\">\n",
              "      <div>\n",
              "<style scoped>\n",
              "    .dataframe tbody tr th:only-of-type {\n",
              "        vertical-align: middle;\n",
              "    }\n",
              "\n",
              "    .dataframe tbody tr th {\n",
              "        vertical-align: top;\n",
              "    }\n",
              "\n",
              "    .dataframe thead th {\n",
              "        text-align: right;\n",
              "    }\n",
              "</style>\n",
              "<table border=\"1\" class=\"dataframe\">\n",
              "  <thead>\n",
              "    <tr style=\"text-align: right;\">\n",
              "      <th></th>\n",
              "      <th>Emp_ID</th>\n",
              "      <th>Genero</th>\n",
              "      <th>Edad</th>\n",
              "    </tr>\n",
              "  </thead>\n",
              "  <tbody>\n",
              "    <tr>\n",
              "      <th>0</th>\n",
              "      <td>E01</td>\n",
              "      <td>F</td>\n",
              "      <td>25</td>\n",
              "    </tr>\n",
              "    <tr>\n",
              "      <th>1</th>\n",
              "      <td>E02</td>\n",
              "      <td>M</td>\n",
              "      <td>27</td>\n",
              "    </tr>\n",
              "    <tr>\n",
              "      <th>2</th>\n",
              "      <td>E03</td>\n",
              "      <td>M</td>\n",
              "      <td>25</td>\n",
              "    </tr>\n",
              "  </tbody>\n",
              "</table>\n",
              "</div>\n",
              "      <button class=\"colab-df-convert\" onclick=\"convertToInteractive('df-49168c30-1714-401c-810a-485b7a413d87')\"\n",
              "              title=\"Convert this dataframe to an interactive table.\"\n",
              "              style=\"display:none;\">\n",
              "        \n",
              "  <svg xmlns=\"http://www.w3.org/2000/svg\" height=\"24px\"viewBox=\"0 0 24 24\"\n",
              "       width=\"24px\">\n",
              "    <path d=\"M0 0h24v24H0V0z\" fill=\"none\"/>\n",
              "    <path d=\"M18.56 5.44l.94 2.06.94-2.06 2.06-.94-2.06-.94-.94-2.06-.94 2.06-2.06.94zm-11 1L8.5 8.5l.94-2.06 2.06-.94-2.06-.94L8.5 2.5l-.94 2.06-2.06.94zm10 10l.94 2.06.94-2.06 2.06-.94-2.06-.94-.94-2.06-.94 2.06-2.06.94z\"/><path d=\"M17.41 7.96l-1.37-1.37c-.4-.4-.92-.59-1.43-.59-.52 0-1.04.2-1.43.59L10.3 9.45l-7.72 7.72c-.78.78-.78 2.05 0 2.83L4 21.41c.39.39.9.59 1.41.59.51 0 1.02-.2 1.41-.59l7.78-7.78 2.81-2.81c.8-.78.8-2.07 0-2.86zM5.41 20L4 18.59l7.72-7.72 1.47 1.35L5.41 20z\"/>\n",
              "  </svg>\n",
              "      </button>\n",
              "      \n",
              "  <style>\n",
              "    .colab-df-container {\n",
              "      display:flex;\n",
              "      flex-wrap:wrap;\n",
              "      gap: 12px;\n",
              "    }\n",
              "\n",
              "    .colab-df-convert {\n",
              "      background-color: #E8F0FE;\n",
              "      border: none;\n",
              "      border-radius: 50%;\n",
              "      cursor: pointer;\n",
              "      display: none;\n",
              "      fill: #1967D2;\n",
              "      height: 32px;\n",
              "      padding: 0 0 0 0;\n",
              "      width: 32px;\n",
              "    }\n",
              "\n",
              "    .colab-df-convert:hover {\n",
              "      background-color: #E2EBFA;\n",
              "      box-shadow: 0px 1px 2px rgba(60, 64, 67, 0.3), 0px 1px 3px 1px rgba(60, 64, 67, 0.15);\n",
              "      fill: #174EA6;\n",
              "    }\n",
              "\n",
              "    [theme=dark] .colab-df-convert {\n",
              "      background-color: #3B4455;\n",
              "      fill: #D2E3FC;\n",
              "    }\n",
              "\n",
              "    [theme=dark] .colab-df-convert:hover {\n",
              "      background-color: #434B5C;\n",
              "      box-shadow: 0px 1px 3px 1px rgba(0, 0, 0, 0.15);\n",
              "      filter: drop-shadow(0px 1px 2px rgba(0, 0, 0, 0.3));\n",
              "      fill: #FFFFFF;\n",
              "    }\n",
              "  </style>\n",
              "\n",
              "      <script>\n",
              "        const buttonEl =\n",
              "          document.querySelector('#df-49168c30-1714-401c-810a-485b7a413d87 button.colab-df-convert');\n",
              "        buttonEl.style.display =\n",
              "          google.colab.kernel.accessAllowed ? 'block' : 'none';\n",
              "\n",
              "        async function convertToInteractive(key) {\n",
              "          const element = document.querySelector('#df-49168c30-1714-401c-810a-485b7a413d87');\n",
              "          const dataTable =\n",
              "            await google.colab.kernel.invokeFunction('convertToInteractive',\n",
              "                                                     [key], {});\n",
              "          if (!dataTable) return;\n",
              "\n",
              "          const docLinkHtml = 'Like what you see? Visit the ' +\n",
              "            '<a target=\"_blank\" href=https://colab.research.google.com/notebooks/data_table.ipynb>data table notebook</a>'\n",
              "            + ' to learn more about interactive tables.';\n",
              "          element.innerHTML = '';\n",
              "          dataTable['output_type'] = 'display_data';\n",
              "          await google.colab.output.renderOutput(dataTable, element);\n",
              "          const docLink = document.createElement('div');\n",
              "          docLink.innerHTML = docLinkHtml;\n",
              "          element.appendChild(docLink);\n",
              "        }\n",
              "      </script>\n",
              "    </div>\n",
              "  </div>\n",
              "  "
            ]
          },
          "metadata": {},
          "execution_count": 5
        }
      ],
      "source": [
        "data = {'Genero': ['F', 'M', 'M'],\n",
        "        'Emp_ID': ['E01', 'E02', 'E03'],\n",
        "        'Edad': [25, 27, 25]}\n",
        "# Si queremos el orden de las columnas, especificamos en el parametro columns\n",
        "df = pd.DataFrame(data, columns=['Emp_ID', 'Genero', 'Edad'])\n",
        "df"
      ]
    },
    {
      "cell_type": "markdown",
      "metadata": {
        "id": "VJvTVteQCuY6"
      },
      "source": [
        "#### Lectura y escritura de datos\n",
        "\n",
        "Veremos tres formatos de archivo de uso común: csv, archivo de texto y Excel."
      ]
    },
    {
      "cell_type": "code",
      "execution_count": null,
      "metadata": {
        "id": "XCMbYN2TEmXV",
        "colab": {
          "base_uri": "https://localhost:8080/",
          "height": 250
        },
        "outputId": "57f51fb9-627c-40aa-b0d5-ab6b852611ce"
      },
      "outputs": [
        {
          "output_type": "execute_result",
          "data": {
            "text/plain": [
              "               model   mpg  cyl   disp   hp  drat     wt   qsec  vs  am  gear  \\\n",
              "0          Mazda RX4  21.0    6  160.0  110  3.90  2.620  16.46   0   1     4   \n",
              "1      Mazda RX4 Wag  21.0    6  160.0  110  3.90  2.875  17.02   0   1     4   \n",
              "2         Datsun 710  22.8    4  108.0   93  3.85  2.320  18.61   1   1     4   \n",
              "3     Hornet 4 Drive  21.4    6  258.0  110  3.08  3.215  19.44   1   0     3   \n",
              "4  Hornet Sportabout  18.7    8  360.0  175  3.15  3.440  17.02   0   0     3   \n",
              "\n",
              "   carb  \n",
              "0     4  \n",
              "1     4  \n",
              "2     1  \n",
              "3     1  \n",
              "4     2  "
            ],
            "text/html": [
              "\n",
              "  <div id=\"df-4a9a9322-132d-4d5b-944f-66f2cc6249cd\">\n",
              "    <div class=\"colab-df-container\">\n",
              "      <div>\n",
              "<style scoped>\n",
              "    .dataframe tbody tr th:only-of-type {\n",
              "        vertical-align: middle;\n",
              "    }\n",
              "\n",
              "    .dataframe tbody tr th {\n",
              "        vertical-align: top;\n",
              "    }\n",
              "\n",
              "    .dataframe thead th {\n",
              "        text-align: right;\n",
              "    }\n",
              "</style>\n",
              "<table border=\"1\" class=\"dataframe\">\n",
              "  <thead>\n",
              "    <tr style=\"text-align: right;\">\n",
              "      <th></th>\n",
              "      <th>model</th>\n",
              "      <th>mpg</th>\n",
              "      <th>cyl</th>\n",
              "      <th>disp</th>\n",
              "      <th>hp</th>\n",
              "      <th>drat</th>\n",
              "      <th>wt</th>\n",
              "      <th>qsec</th>\n",
              "      <th>vs</th>\n",
              "      <th>am</th>\n",
              "      <th>gear</th>\n",
              "      <th>carb</th>\n",
              "    </tr>\n",
              "  </thead>\n",
              "  <tbody>\n",
              "    <tr>\n",
              "      <th>0</th>\n",
              "      <td>Mazda RX4</td>\n",
              "      <td>21.0</td>\n",
              "      <td>6</td>\n",
              "      <td>160.0</td>\n",
              "      <td>110</td>\n",
              "      <td>3.90</td>\n",
              "      <td>2.620</td>\n",
              "      <td>16.46</td>\n",
              "      <td>0</td>\n",
              "      <td>1</td>\n",
              "      <td>4</td>\n",
              "      <td>4</td>\n",
              "    </tr>\n",
              "    <tr>\n",
              "      <th>1</th>\n",
              "      <td>Mazda RX4 Wag</td>\n",
              "      <td>21.0</td>\n",
              "      <td>6</td>\n",
              "      <td>160.0</td>\n",
              "      <td>110</td>\n",
              "      <td>3.90</td>\n",
              "      <td>2.875</td>\n",
              "      <td>17.02</td>\n",
              "      <td>0</td>\n",
              "      <td>1</td>\n",
              "      <td>4</td>\n",
              "      <td>4</td>\n",
              "    </tr>\n",
              "    <tr>\n",
              "      <th>2</th>\n",
              "      <td>Datsun 710</td>\n",
              "      <td>22.8</td>\n",
              "      <td>4</td>\n",
              "      <td>108.0</td>\n",
              "      <td>93</td>\n",
              "      <td>3.85</td>\n",
              "      <td>2.320</td>\n",
              "      <td>18.61</td>\n",
              "      <td>1</td>\n",
              "      <td>1</td>\n",
              "      <td>4</td>\n",
              "      <td>1</td>\n",
              "    </tr>\n",
              "    <tr>\n",
              "      <th>3</th>\n",
              "      <td>Hornet 4 Drive</td>\n",
              "      <td>21.4</td>\n",
              "      <td>6</td>\n",
              "      <td>258.0</td>\n",
              "      <td>110</td>\n",
              "      <td>3.08</td>\n",
              "      <td>3.215</td>\n",
              "      <td>19.44</td>\n",
              "      <td>1</td>\n",
              "      <td>0</td>\n",
              "      <td>3</td>\n",
              "      <td>1</td>\n",
              "    </tr>\n",
              "    <tr>\n",
              "      <th>4</th>\n",
              "      <td>Hornet Sportabout</td>\n",
              "      <td>18.7</td>\n",
              "      <td>8</td>\n",
              "      <td>360.0</td>\n",
              "      <td>175</td>\n",
              "      <td>3.15</td>\n",
              "      <td>3.440</td>\n",
              "      <td>17.02</td>\n",
              "      <td>0</td>\n",
              "      <td>0</td>\n",
              "      <td>3</td>\n",
              "      <td>2</td>\n",
              "    </tr>\n",
              "  </tbody>\n",
              "</table>\n",
              "</div>\n",
              "      <button class=\"colab-df-convert\" onclick=\"convertToInteractive('df-4a9a9322-132d-4d5b-944f-66f2cc6249cd')\"\n",
              "              title=\"Convert this dataframe to an interactive table.\"\n",
              "              style=\"display:none;\">\n",
              "        \n",
              "  <svg xmlns=\"http://www.w3.org/2000/svg\" height=\"24px\"viewBox=\"0 0 24 24\"\n",
              "       width=\"24px\">\n",
              "    <path d=\"M0 0h24v24H0V0z\" fill=\"none\"/>\n",
              "    <path d=\"M18.56 5.44l.94 2.06.94-2.06 2.06-.94-2.06-.94-.94-2.06-.94 2.06-2.06.94zm-11 1L8.5 8.5l.94-2.06 2.06-.94-2.06-.94L8.5 2.5l-.94 2.06-2.06.94zm10 10l.94 2.06.94-2.06 2.06-.94-2.06-.94-.94-2.06-.94 2.06-2.06.94z\"/><path d=\"M17.41 7.96l-1.37-1.37c-.4-.4-.92-.59-1.43-.59-.52 0-1.04.2-1.43.59L10.3 9.45l-7.72 7.72c-.78.78-.78 2.05 0 2.83L4 21.41c.39.39.9.59 1.41.59.51 0 1.02-.2 1.41-.59l7.78-7.78 2.81-2.81c.8-.78.8-2.07 0-2.86zM5.41 20L4 18.59l7.72-7.72 1.47 1.35L5.41 20z\"/>\n",
              "  </svg>\n",
              "      </button>\n",
              "      \n",
              "  <style>\n",
              "    .colab-df-container {\n",
              "      display:flex;\n",
              "      flex-wrap:wrap;\n",
              "      gap: 12px;\n",
              "    }\n",
              "\n",
              "    .colab-df-convert {\n",
              "      background-color: #E8F0FE;\n",
              "      border: none;\n",
              "      border-radius: 50%;\n",
              "      cursor: pointer;\n",
              "      display: none;\n",
              "      fill: #1967D2;\n",
              "      height: 32px;\n",
              "      padding: 0 0 0 0;\n",
              "      width: 32px;\n",
              "    }\n",
              "\n",
              "    .colab-df-convert:hover {\n",
              "      background-color: #E2EBFA;\n",
              "      box-shadow: 0px 1px 2px rgba(60, 64, 67, 0.3), 0px 1px 3px 1px rgba(60, 64, 67, 0.15);\n",
              "      fill: #174EA6;\n",
              "    }\n",
              "\n",
              "    [theme=dark] .colab-df-convert {\n",
              "      background-color: #3B4455;\n",
              "      fill: #D2E3FC;\n",
              "    }\n",
              "\n",
              "    [theme=dark] .colab-df-convert:hover {\n",
              "      background-color: #434B5C;\n",
              "      box-shadow: 0px 1px 3px 1px rgba(0, 0, 0, 0.15);\n",
              "      filter: drop-shadow(0px 1px 2px rgba(0, 0, 0, 0.3));\n",
              "      fill: #FFFFFF;\n",
              "    }\n",
              "  </style>\n",
              "\n",
              "      <script>\n",
              "        const buttonEl =\n",
              "          document.querySelector('#df-4a9a9322-132d-4d5b-944f-66f2cc6249cd button.colab-df-convert');\n",
              "        buttonEl.style.display =\n",
              "          google.colab.kernel.accessAllowed ? 'block' : 'none';\n",
              "\n",
              "        async function convertToInteractive(key) {\n",
              "          const element = document.querySelector('#df-4a9a9322-132d-4d5b-944f-66f2cc6249cd');\n",
              "          const dataTable =\n",
              "            await google.colab.kernel.invokeFunction('convertToInteractive',\n",
              "                                                     [key], {});\n",
              "          if (!dataTable) return;\n",
              "\n",
              "          const docLinkHtml = 'Like what you see? Visit the ' +\n",
              "            '<a target=\"_blank\" href=https://colab.research.google.com/notebooks/data_table.ipynb>data table notebook</a>'\n",
              "            + ' to learn more about interactive tables.';\n",
              "          element.innerHTML = '';\n",
              "          dataTable['output_type'] = 'display_data';\n",
              "          await google.colab.output.renderOutput(dataTable, element);\n",
              "          const docLink = document.createElement('div');\n",
              "          docLink.innerHTML = docLinkHtml;\n",
              "          element.appendChild(docLink);\n",
              "        }\n",
              "      </script>\n",
              "    </div>\n",
              "  </div>\n",
              "  "
            ]
          },
          "metadata": {},
          "execution_count": 7
        }
      ],
      "source": [
        "# Leyendo desde un archivo csv\n",
        "df=pd.read_csv('mtcars.csv')\n",
        "df.head()"
      ]
    },
    {
      "cell_type": "code",
      "execution_count": null,
      "metadata": {
        "id": "4JoGt04EE_vr"
      },
      "outputs": [],
      "source": [
        "# Escribir un csv\n",
        "# index = False - no escribe los valores de indice, el valor predeterminado es True\n",
        "# completar"
      ]
    },
    {
      "cell_type": "code",
      "source": [
        "df.to_csv('new_mtcars.csv', index=False)"
      ],
      "metadata": {
        "id": "qFxkyvxW2_S2"
      },
      "execution_count": null,
      "outputs": []
    },
    {
      "cell_type": "code",
      "execution_count": null,
      "metadata": {
        "id": "YoHlMIShFRCt"
      },
      "outputs": [],
      "source": [
        "# Leyendo desde un archivo .txt\n",
        "# df=pd.read_csv('Data/mtcars.txt', sep='\\t')\n",
        "# completar"
      ]
    },
    {
      "cell_type": "code",
      "source": [
        "# Leer el archivo de texto\n",
        "df = pd.read_csv('mtcars.txt', sep='\\t')\n",
        "# Mostrar las primeras filas del DataFrame\n",
        "print(df.head())"
      ],
      "metadata": {
        "id": "4UG5j2013PYG",
        "colab": {
          "base_uri": "https://localhost:8080/"
        },
        "outputId": "62dd12a8-e3d5-4a7e-a971-183550c8834b"
      },
      "execution_count": null,
      "outputs": [
        {
          "output_type": "stream",
          "name": "stdout",
          "text": [
            "               model   mpg  cyl   disp   hp  drat     wt   qsec  vs  am  gear  \\\n",
            "0          Mazda RX4  21.0    6  160.0  110  3.90  2.620  16.46   0   1     4   \n",
            "1      Mazda RX4 Wag  21.0    6  160.0  110  3.90  2.875  17.02   0   1     4   \n",
            "2         Datsun 710  22.8    4  108.0   93  3.85  2.320  18.61   1   1     4   \n",
            "3     Hornet 4 Drive  21.4    6  258.0  110  3.08  3.215  19.44   1   0     3   \n",
            "4  Hornet Sportabout  18.7    8  360.0  175  3.15  3.440  17.02   0   0     3   \n",
            "\n",
            "   carb  \n",
            "0     4  \n",
            "1     4  \n",
            "2     1  \n",
            "3     1  \n",
            "4     2  \n"
          ]
        }
      ]
    },
    {
      "cell_type": "code",
      "execution_count": null,
      "metadata": {
        "id": "e3Msn077GtuI"
      },
      "outputs": [],
      "source": [
        "# Leyendo un archivo Excel\n",
        "#df=pd.read_excel('Data/mtcars.xlsx','Sheet2')\n",
        "# Completar"
      ]
    },
    {
      "cell_type": "code",
      "source": [
        "# Leer el archivo Excel\n",
        "df = pd.read_excel('mtcars.xlsx', sheet_name='Sheet2')\n",
        "# Mostrar las primeras filas del DataFrame\n",
        "print(df.head())"
      ],
      "metadata": {
        "id": "s7PpA4jp4DqN",
        "colab": {
          "base_uri": "https://localhost:8080/"
        },
        "outputId": "691b4b1a-fe73-4f46-f0e5-8e93d1607db9"
      },
      "execution_count": null,
      "outputs": [
        {
          "output_type": "stream",
          "name": "stdout",
          "text": [
            "               model   mpg  cyl   disp   hp  drat     wt   qsec  vs  am  gear  \\\n",
            "0          Mazda RX4  21.0    6  160.0  110  3.90  2.620  16.46   0   1     4   \n",
            "1      Mazda RX4 Wag  21.0    6  160.0  110  3.90  2.875  17.02   0   1     4   \n",
            "2         Datsun 710  22.8    4  108.0   93  3.85  2.320  18.61   1   1     4   \n",
            "3     Hornet 4 Drive  21.4    6  258.0  110  3.08  3.215  19.44   1   0     3   \n",
            "4  Hornet Sportabout  18.7    8  360.0  175  3.15  3.440  17.02   0   0     3   \n",
            "\n",
            "   carb  \n",
            "0     4  \n",
            "1     4  \n",
            "2     1  \n",
            "3     1  \n",
            "4     2  \n"
          ]
        }
      ]
    },
    {
      "cell_type": "markdown",
      "metadata": {
        "id": "xWCcg3JGI0NR"
      },
      "source": [
        "### Resumen de estadísticas básicas\n"
      ]
    },
    {
      "cell_type": "code",
      "execution_count": null,
      "metadata": {
        "id": "54NqMh47HBCZ"
      },
      "outputs": [],
      "source": [
        "#df = pd.read_csv('Data/iris.csv')\n",
        "# completar"
      ]
    },
    {
      "cell_type": "code",
      "source": [
        "# Leer el archivo CSV\n",
        "df = pd.read_csv('iris.csv')\n",
        "# Mostrar las primeras filas del DataFrame\n",
        "print(df.head())"
      ],
      "metadata": {
        "id": "KB1xNOLt44w7",
        "colab": {
          "base_uri": "https://localhost:8080/"
        },
        "outputId": "68fa8890-2091-4e6d-d374-c4472e6bdedb"
      },
      "execution_count": null,
      "outputs": [
        {
          "output_type": "stream",
          "name": "stdout",
          "text": [
            "   Sepal.Length  Sepal.Width  Petal.Length  Petal.Width Species\n",
            "0           5.1          3.5           1.4          0.2  setosa\n",
            "1           4.9          3.0           1.4          0.2  setosa\n",
            "2           4.7          3.2           1.3          0.2  setosa\n",
            "3           4.6          3.1           1.5          0.2  setosa\n",
            "4           5.0          3.6           1.4          0.2  setosa\n"
          ]
        }
      ]
    },
    {
      "cell_type": "markdown",
      "metadata": {
        "id": "wkI0064bJHE0"
      },
      "source": [
        "#### Covarianza\n"
      ]
    },
    {
      "cell_type": "code",
      "execution_count": null,
      "metadata": {
        "id": "GlwA10C4JAyU"
      },
      "outputs": [],
      "source": [
        "# covarianza: devuelve la covarianza entre columnas adecuadas\n",
        "# completar"
      ]
    },
    {
      "cell_type": "code",
      "source": [
        "# Leer el archivo CSV\n",
        "df = pd.read_csv('iris.csv')\n",
        "# Calcular la covarianza de las columnas\n",
        "covariance = df.cov()\n",
        "print(covariance)"
      ],
      "metadata": {
        "id": "usAMhPz35N2A",
        "colab": {
          "base_uri": "https://localhost:8080/"
        },
        "outputId": "84e0ab99-38b6-4f3c-8e3e-3b184fe3fad5"
      },
      "execution_count": null,
      "outputs": [
        {
          "output_type": "stream",
          "name": "stdout",
          "text": [
            "              Sepal.Length  Sepal.Width  Petal.Length  Petal.Width\n",
            "Sepal.Length      0.685694    -0.042434      1.274315     0.516271\n",
            "Sepal.Width      -0.042434     0.189979     -0.329656    -0.121639\n",
            "Petal.Length      1.274315    -0.329656      3.116278     1.295609\n",
            "Petal.Width       0.516271    -0.121639      1.295609     0.581006\n"
          ]
        },
        {
          "output_type": "stream",
          "name": "stderr",
          "text": [
            "<ipython-input-20-429e42e55a2c>:4: FutureWarning: The default value of numeric_only in DataFrame.cov is deprecated. In a future version, it will default to False. Select only valid columns or specify the value of numeric_only to silence this warning.\n",
            "  covariance = df.cov()\n"
          ]
        }
      ]
    },
    {
      "cell_type": "markdown",
      "metadata": {
        "id": "6Rj-HfKeKkUY"
      },
      "source": [
        "#### Correlación\n"
      ]
    },
    {
      "cell_type": "code",
      "execution_count": null,
      "metadata": {
        "id": "H_TLYjm5KbkP"
      },
      "outputs": [],
      "source": [
        "# completar"
      ]
    },
    {
      "cell_type": "code",
      "source": [
        "# Calcular la correlación de las columnas\n",
        "correlation = df.corr()\n",
        "print(correlation)"
      ],
      "metadata": {
        "id": "f3sXTWjn536X",
        "colab": {
          "base_uri": "https://localhost:8080/"
        },
        "outputId": "aef76020-99e9-43cc-b599-31508c20f295"
      },
      "execution_count": null,
      "outputs": [
        {
          "output_type": "stream",
          "name": "stdout",
          "text": [
            "              Sepal.Length  Sepal.Width  Petal.Length  Petal.Width\n",
            "Sepal.Length      1.000000    -0.117570      0.871754     0.817941\n",
            "Sepal.Width      -0.117570     1.000000     -0.428440    -0.366126\n",
            "Petal.Length      0.871754    -0.428440      1.000000     0.962865\n",
            "Petal.Width       0.817941    -0.366126      0.962865     1.000000\n"
          ]
        },
        {
          "output_type": "stream",
          "name": "stderr",
          "text": [
            "<ipython-input-21-361703a3ff58>:2: FutureWarning: The default value of numeric_only in DataFrame.corr is deprecated. In a future version, it will default to False. Select only valid columns or specify the value of numeric_only to silence this warning.\n",
            "  correlation = df.corr()\n"
          ]
        }
      ]
    },
    {
      "cell_type": "markdown",
      "metadata": {
        "id": "J64xxx5-Lk5t"
      },
      "source": [
        "### Visualización de datos\n",
        "Pandas DataFrame viene con funciones integradas para ver los datos contenidos:\n",
        "\n",
        "* Mirando los `n` primeros registros, el valor predeterminado de `n` es 5 si no se especifica:  `df.head(n=2)`.\n",
        "\n",
        "* Mirando los `n` registros inferiores: `df.tail()`\n",
        "\n",
        "* Obtener los nombres de las columnas: `df.columns`\n",
        "\n",
        "* Obtener los tipos de datos de las columnas: `df.types`\n",
        "\n",
        "* Obtener el índice del dataframe: `df.index`\n",
        "\n",
        "* Obtener valores únicos: `df[column_name].unique()`\n",
        "\n",
        "* Obtener valores: `df.values`\n",
        "\n",
        "* Ordenar el dataframe: `df.sort_values(by =['Column1', 'Column2'], ascending=[True,True'])`\n",
        "\n",
        "* Seleccionar/ver por el nombre de la columna: `df[column_name]`\n",
        "\n",
        "* Seleccionar/ver por número de fila `df[0:3]`\n",
        "\n",
        "* Selección por índice:\n",
        "\n",
        "- `df.loc[0:3] # índice de 0 a 3`\n",
        "- `df.loc[0:3,[‘column1’, ‘column2’]] # índice de 0 a 3 para las columnas específicas`\n",
        "\n",
        "* Selección por posición\n",
        "\n",
        "- `df.iloc[0:2] # usando el rango, primeras 2 filas`\n",
        "- `df.iloc[2,3,6] # posición específica`\n",
        "-  `df.iloc[0:2,0:2] # primeras 2 filas y primeras 2 columnas`\n",
        "\n",
        "* Selección sin que esté en el índice\n",
        "\n",
        "- `print(df.ix[1,1]) # valor de la primera fila y la primera columna`\n",
        "- `print(df.ix[:,2]) # todas las filas de la columna en la segunda posición`\n",
        "\n",
        "* Alternativa más rápida a `iloc` para obtener valores escalares: `print(df.iat[1,1])`\n",
        "\n",
        "* Transponer el dataframe: `df.T`\n",
        "\n",
        "* Filtrar DataFrame según la condición de valor para una columna: `df[df['column_name'] > 7.5]`\n",
        "\n",
        "* Filtrar DataFrame basado en una condición de valor en una columna: `df[df['column_name'].isin(['condition_value1', 'condition_value2'])]`\n",
        "\n",
        "* Filtro basado en múltiples condiciones en múltiples columnas usando el operador AND: `df[(df['column1']>7.5) & (df['column2']>3)]`\n",
        "\n",
        "* Filtro basado en múltiples condiciones en múltiples columnas usando el operador OR: `df[(df[‘column1’]>7.5) | (df['column2']>3)]`."
      ]
    },
    {
      "cell_type": "code",
      "execution_count": null,
      "metadata": {
        "id": "pOtTELEsLAfx"
      },
      "outputs": [],
      "source": [
        "# completar"
      ]
    },
    {
      "cell_type": "code",
      "source": [
        "# Leer el archivo CSV\n",
        "df = pd.read_csv('iris.csv')"
      ],
      "metadata": {
        "id": "lhOkxzZ28xzs"
      },
      "execution_count": null,
      "outputs": []
    },
    {
      "cell_type": "code",
      "execution_count": null,
      "metadata": {
        "id": "ivOb0oSYSGby"
      },
      "outputs": [],
      "source": [
        "# completar"
      ]
    },
    {
      "cell_type": "code",
      "source": [
        "# Mirando los n primeros registros\n",
        "print(df.head(n=2))"
      ],
      "metadata": {
        "id": "z4FHGEqL81sP",
        "colab": {
          "base_uri": "https://localhost:8080/"
        },
        "outputId": "63eef1db-ee95-4f60-b28d-981f1913aff8"
      },
      "execution_count": null,
      "outputs": [
        {
          "output_type": "stream",
          "name": "stdout",
          "text": [
            "   Sepal.Length  Sepal.Width  Petal.Length  Petal.Width Species\n",
            "0           5.1          3.5           1.4          0.2  setosa\n",
            "1           4.9          3.0           1.4          0.2  setosa\n"
          ]
        }
      ]
    },
    {
      "cell_type": "code",
      "execution_count": null,
      "metadata": {
        "id": "EEpn-I5jSIca"
      },
      "outputs": [],
      "source": [
        "# completar"
      ]
    },
    {
      "cell_type": "code",
      "source": [
        "# Mirando los n registros inferiores\n",
        "print(df.tail())"
      ],
      "metadata": {
        "id": "eXtrBRcU84H1",
        "colab": {
          "base_uri": "https://localhost:8080/"
        },
        "outputId": "f06a3533-120b-4d76-c5e6-fc8781835226"
      },
      "execution_count": null,
      "outputs": [
        {
          "output_type": "stream",
          "name": "stdout",
          "text": [
            "     Sepal.Length  Sepal.Width  Petal.Length  Petal.Width    Species\n",
            "145           6.7          3.0           5.2          2.3  virginica\n",
            "146           6.3          2.5           5.0          1.9  virginica\n",
            "147           6.5          3.0           5.2          2.0  virginica\n",
            "148           6.2          3.4           5.4          2.3  virginica\n",
            "149           5.9          3.0           5.1          1.8  virginica\n"
          ]
        }
      ]
    },
    {
      "cell_type": "code",
      "execution_count": null,
      "metadata": {
        "id": "3CmE078qSKRN"
      },
      "outputs": [],
      "source": [
        "# print (\"Nombres de las columnas:\" , df.columns)"
      ]
    },
    {
      "cell_type": "code",
      "source": [
        "# Obtener los nombres de las columnas\n",
        "print(\"Nombres de las columnas:\", df.columns)"
      ],
      "metadata": {
        "id": "90oahRnB865P",
        "colab": {
          "base_uri": "https://localhost:8080/"
        },
        "outputId": "9463b740-03f9-4800-bd2a-c1e481ca3a88"
      },
      "execution_count": null,
      "outputs": [
        {
          "output_type": "stream",
          "name": "stdout",
          "text": [
            "Nombres de las columnas: Index(['Sepal.Length', 'Sepal.Width', 'Petal.Length', 'Petal.Width',\n",
            "       'Species'],\n",
            "      dtype='object')\n"
          ]
        }
      ]
    },
    {
      "cell_type": "code",
      "execution_count": null,
      "metadata": {
        "id": "b5jc_HiMTKJe"
      },
      "outputs": [],
      "source": [
        "# print (\"Indice del DataFrame : \", df.index)"
      ]
    },
    {
      "cell_type": "code",
      "source": [
        "# Obtener el índice del dataframe\n",
        "print(\"Índice del DataFrame:\", df.index)"
      ],
      "metadata": {
        "id": "4vw45u4J8-nl",
        "colab": {
          "base_uri": "https://localhost:8080/"
        },
        "outputId": "10df4c75-de16-4bc4-8f6b-9f19fc8ad77f"
      },
      "execution_count": null,
      "outputs": [
        {
          "output_type": "stream",
          "name": "stdout",
          "text": [
            "Índice del DataFrame: RangeIndex(start=0, stop=32, step=1)\n"
          ]
        }
      ]
    },
    {
      "cell_type": "code",
      "execution_count": null,
      "metadata": {
        "id": "8otEGZaxUBcN"
      },
      "outputs": [],
      "source": [
        "# print(df.values)"
      ]
    },
    {
      "cell_type": "code",
      "source": [
        "# Obtener valores\n",
        "print(df.values)"
      ],
      "metadata": {
        "id": "6dw0ww6A9eeS",
        "colab": {
          "base_uri": "https://localhost:8080/"
        },
        "outputId": "57066c50-a4e8-4298-a69c-66b07f392714"
      },
      "execution_count": null,
      "outputs": [
        {
          "output_type": "stream",
          "name": "stdout",
          "text": [
            "[['Mazda RX4' 21.0 6 160.0 110 3.9 2.62 16.46 0 1 4 4]\n",
            " ['Mazda RX4 Wag' 21.0 6 160.0 110 3.9 2.875 17.02 0 1 4 4]\n",
            " ['Datsun 710' 22.8 4 108.0 93 3.85 2.32 18.61 1 1 4 1]\n",
            " ['Hornet 4 Drive' 21.4 6 258.0 110 3.08 3.215 19.44 1 0 3 1]\n",
            " ['Hornet Sportabout' 18.7 8 360.0 175 3.15 3.44 17.02 0 0 3 2]\n",
            " ['Valiant' 18.1 6 225.0 105 2.76 3.46 20.22 1 0 3 1]\n",
            " ['Duster 360' 14.3 8 360.0 245 3.21 3.57 15.84 0 0 3 4]\n",
            " ['Merc 240D' 24.4 4 146.7 62 3.69 3.19 20.0 1 0 4 2]\n",
            " ['Merc 230' 22.8 4 140.8 95 3.92 3.15 22.9 1 0 4 2]\n",
            " ['Merc 280' 19.2 6 167.6 123 3.92 3.44 18.3 1 0 4 4]\n",
            " ['Merc 280C' 17.8 6 167.6 123 3.92 3.44 18.9 1 0 4 4]\n",
            " ['Merc 450SE' 16.4 8 275.8 180 3.07 4.07 17.4 0 0 3 3]\n",
            " ['Merc 450SL' 17.3 8 275.8 180 3.07 3.73 17.6 0 0 3 3]\n",
            " ['Merc 450SLC' 15.2 8 275.8 180 3.07 3.78 18.0 0 0 3 3]\n",
            " ['Cadillac Fleetwood' 10.4 8 472.0 205 2.93 5.25 17.98 0 0 3 4]\n",
            " ['Lincoln Continental' 10.4 8 460.0 215 3.0 5.424 17.82 0 0 3 4]\n",
            " ['Chrysler Imperial' 14.7 8 440.0 230 3.23 5.345 17.42 0 0 3 4]\n",
            " ['Fiat 128' 32.4 4 78.7 66 4.08 2.2 19.47 1 1 4 1]\n",
            " ['Honda Civic' 30.4 4 75.7 52 4.93 1.615 18.52 1 1 4 2]\n",
            " ['Toyota Corolla' 33.9 4 71.1 65 4.22 1.835 19.9 1 1 4 1]\n",
            " ['Toyota Corona' 21.5 4 120.1 97 3.7 2.465 20.01 1 0 3 1]\n",
            " ['Dodge Challenger' 15.5 8 318.0 150 2.76 3.52 16.87 0 0 3 2]\n",
            " ['AMC Javelin' 15.2 8 304.0 150 3.15 3.435 17.3 0 0 3 2]\n",
            " ['Camaro Z28' 13.3 8 350.0 245 3.73 3.84 15.41 0 0 3 4]\n",
            " ['Pontiac Firebird' 19.2 8 400.0 175 3.08 3.845 17.05 0 0 3 2]\n",
            " ['Fiat X1-9' 27.3 4 79.0 66 4.08 1.935 18.9 1 1 4 1]\n",
            " ['Porsche 914-2' 26.0 4 120.3 91 4.43 2.14 16.7 0 1 5 2]\n",
            " ['Lotus Europa' 30.4 4 95.1 113 3.77 1.513 16.9 1 1 5 2]\n",
            " ['Ford Pantera L' 15.8 8 351.0 264 4.22 3.17 14.5 0 1 5 4]\n",
            " ['Ferrari Dino' 19.7 6 145.0 175 3.62 2.77 15.5 0 1 5 6]\n",
            " ['Maserati Bora' 15.0 8 301.0 335 3.54 3.57 14.6 0 1 5 8]\n",
            " ['Volvo 142E' 21.4 4 121.0 109 4.11 2.78 18.6 1 1 4 2]]\n"
          ]
        }
      ]
    },
    {
      "cell_type": "code",
      "execution_count": null,
      "metadata": {
        "id": "0skr4dyrTfPs"
      },
      "outputs": [],
      "source": [
        "# Valores para una especifica columna\n",
        "# Completar"
      ]
    },
    {
      "cell_type": "code",
      "source": [
        "# Obtener los tipos de datos de las columnas\n",
        "print(df.dtypes)"
      ],
      "metadata": {
        "id": "EuSjwADj9qfg",
        "colab": {
          "base_uri": "https://localhost:8080/"
        },
        "outputId": "002de945-1450-4303-b19f-05f541597e94"
      },
      "execution_count": null,
      "outputs": [
        {
          "output_type": "stream",
          "name": "stdout",
          "text": [
            "model     object\n",
            "mpg      float64\n",
            "cyl        int64\n",
            "disp     float64\n",
            "hp         int64\n",
            "drat     float64\n",
            "wt       float64\n",
            "qsec     float64\n",
            "vs         int64\n",
            "am         int64\n",
            "gear       int64\n",
            "carb       int64\n",
            "dtype: object\n"
          ]
        }
      ]
    },
    {
      "cell_type": "code",
      "execution_count": null,
      "metadata": {
        "id": "drI7C2qEUJTc"
      },
      "outputs": [],
      "source": [
        "# df['Species'].unique()"
      ]
    },
    {
      "cell_type": "code",
      "source": [
        "# Obtener valores únicos\n",
        "print(df['Species'].unique())"
      ],
      "metadata": {
        "id": "cVr9fGa29lAz"
      },
      "execution_count": null,
      "outputs": []
    },
    {
      "cell_type": "code",
      "execution_count": null,
      "metadata": {
        "id": "otBu5HVWUamB"
      },
      "outputs": [],
      "source": [
        "# df['Sepal.Length'].unique()"
      ]
    },
    {
      "cell_type": "code",
      "source": [
        "df=['Sepal.Length'].unique()"
      ],
      "metadata": {
        "id": "MHVeyfG9-Oqc"
      },
      "execution_count": null,
      "outputs": []
    },
    {
      "cell_type": "code",
      "execution_count": null,
      "metadata": {
        "id": "Yx8vBzDOUdym"
      },
      "outputs": [],
      "source": [
        "# df.sort_values(by = ['Species', 'Sepal.Length'], ascending=[True, True])"
      ]
    },
    {
      "cell_type": "code",
      "source": [
        "# Ordenar el dataframe\n",
        "df = df.sort_values(by=['Species', 'SepalLengthCm'], ascending=[True, True])"
      ],
      "metadata": {
        "id": "h_NX91Im99aE"
      },
      "execution_count": null,
      "outputs": []
    },
    {
      "cell_type": "code",
      "execution_count": null,
      "metadata": {
        "id": "tcHUx3W8U7PT"
      },
      "outputs": [],
      "source": [
        "#df['Species']"
      ]
    },
    {
      "cell_type": "code",
      "source": [
        "print(df['Species'])"
      ],
      "metadata": {
        "id": "Ei5qVkgP-QhX"
      },
      "execution_count": null,
      "outputs": []
    },
    {
      "cell_type": "code",
      "execution_count": null,
      "metadata": {
        "id": "o5lOhc1sVNhu"
      },
      "outputs": [],
      "source": [
        "# completar"
      ]
    },
    {
      "cell_type": "code",
      "source": [
        "# Transponer el dataframe\n",
        "print(df.T)"
      ],
      "metadata": {
        "id": "7lKmExmR-TUi"
      },
      "execution_count": null,
      "outputs": []
    },
    {
      "cell_type": "code",
      "source": [
        "# Filtrar DataFrame según la condición de valor para una columna\n",
        "print(df[df['SepalLengthCm'] > 7.5])"
      ],
      "metadata": {
        "id": "ZIWweNaV-8T_"
      },
      "execution_count": null,
      "outputs": []
    },
    {
      "cell_type": "code",
      "source": [
        "# Filtrar DataFrame basado en una condición de valor en una columna\n",
        "print(df[df['Species'].isin(['Iris-setosa', 'Iris-virginica'])])"
      ],
      "metadata": {
        "id": "R-gev4aT-pOM"
      },
      "execution_count": null,
      "outputs": []
    },
    {
      "cell_type": "markdown",
      "metadata": {
        "id": "2mf3Je9gYpeV"
      },
      "source": [
        "Selección diferente por opciones de etiqueta\n",
        "\n",
        "- `loc:` solo funciona en el índice\n",
        "- `iloc:` trabaja en posición\n",
        "- `iat:` Obtener valores escalares. es un `iloc` muy rapido."
      ]
    },
    {
      "cell_type": "code",
      "execution_count": null,
      "metadata": {
        "id": "JwEqIFd4VbD1"
      },
      "outputs": [],
      "source": [
        "# selección por indice\n",
        "# completar"
      ]
    },
    {
      "cell_type": "code",
      "source": [
        "df = pd.read_csv('Data/iris.csv')\n",
        "# Selección por índice usando loc\n",
        "print(df.loc[0:3])  # Índice de 0 a 3\n",
        "print(df.loc[0:3, ['Species', 'SepalLengthCm']])  # Índice de 0 a 3 para las columnas específicas"
      ],
      "metadata": {
        "id": "SiU2mfyw_IGQ"
      },
      "execution_count": null,
      "outputs": []
    },
    {
      "cell_type": "code",
      "execution_count": null,
      "metadata": {
        "id": "TeK51S8mZC8_"
      },
      "outputs": [],
      "source": [
        "# selección por indice de nombres de etiquetas específicas\n",
        "# completar"
      ]
    },
    {
      "cell_type": "code",
      "source": [
        "# Seleccionar filas y columnas específicas por nombre\n",
        "selected_data = df.loc[0:3, ['Species', 'SepalLengthCm']]\n",
        "print(selected_data)"
      ],
      "metadata": {
        "id": "kV5sl_XC_h0-"
      },
      "execution_count": null,
      "outputs": []
    },
    {
      "cell_type": "code",
      "execution_count": null,
      "metadata": {
        "id": "p0mFC9yxZxLg"
      },
      "outputs": [],
      "source": [
        "# Selección por posición\n",
        "# completar"
      ]
    },
    {
      "cell_type": "code",
      "source": [
        "# Seleccionar filas y columnas específicas por posición\n",
        "selected_data = df.iloc[0:2, 0:2]\n",
        "print(selected_data)"
      ],
      "metadata": {
        "id": "OpDlRCD5_i5f"
      },
      "execution_count": null,
      "outputs": []
    },
    {
      "cell_type": "code",
      "execution_count": null,
      "metadata": {
        "id": "MT1DK0AcaAbH"
      },
      "outputs": [],
      "source": [
        "# Seleccion por posicion entre filas dadas como rango\n",
        "# completar"
      ]
    },
    {
      "cell_type": "code",
      "source": [
        "# Seleccionar un rango de filas usando iloc\n",
        "selected_rows = df.iloc[5:10]\n",
        "print(selected_rows)"
      ],
      "metadata": {
        "id": "mKa9xeT0_jS1"
      },
      "execution_count": null,
      "outputs": []
    },
    {
      "cell_type": "markdown",
      "metadata": {
        "id": "kaCwcf4SaTIL",
        "outputId": "1fb3ac6e-eacc-4773-c397-dbab246e9bd9"
      },
      "source": [
        "**Ejercicio**\n",
        "\n",
        "¿Qué produce `df.iloc[0:3, 0:3]` ?"
      ]
    },
    {
      "cell_type": "code",
      "execution_count": null,
      "metadata": {
        "id": "nWX0nkuMwgHz"
      },
      "outputs": [],
      "source": [
        "## Tu respuesta"
      ]
    },
    {
      "cell_type": "markdown",
      "source": [
        "El comando `df.iloc[0:3, 0:3]` selecciona una subsección del DataFrame `df` utilizando índices de posición (no etiquetas de índice). Específicamente, selecciona las primeras tres filas y las primeras tres columnas del DataFrame.\n",
        "\n",
        "El resultado será un nuevo DataFrame que contiene solo estas filas y columnas. Tenga en cuenta que la indexación en Python comienza en 0 y es exclusiva en el extremo superior, por lo que `0:3` selecciona las posiciones 0, 1 y 2."
      ],
      "metadata": {
        "id": "BwiqJFhUAnOo"
      }
    },
    {
      "cell_type": "code",
      "execution_count": null,
      "metadata": {
        "id": "jZPYlJ2CaZgL"
      },
      "outputs": [],
      "source": [
        "# seleccion por posicion entre numeros de fila especificos dados\n",
        "# Completar"
      ]
    },
    {
      "cell_type": "code",
      "source": [
        "# Seleccionar filas específicas por posición usando iloc\n",
        "selected_rows = df.iloc[[2, 4, 7, 10]]\n",
        "print(selected_rows)"
      ],
      "metadata": {
        "id": "_mx0rFpzBBKC"
      },
      "execution_count": null,
      "outputs": []
    },
    {
      "cell_type": "markdown",
      "metadata": {
        "id": "_orxFJhhbMj9"
      },
      "source": [
        "Selección por índice de fila y columna (el índice comienza con 0).\n",
        "\n",
        "El siguiente caso obtendrá el valor `[índice de la primera fila, índice de la primera columna]`."
      ]
    },
    {
      "cell_type": "code",
      "execution_count": null,
      "metadata": {
        "id": "BT4I0aspbA3y"
      },
      "outputs": [],
      "source": [
        "# obtener valores escalares. es un iloc muy rapido\n",
        "# print(df.iat[1,1])"
      ]
    },
    {
      "cell_type": "code",
      "source": [
        "print(df.iat[1,1])"
      ],
      "metadata": {
        "id": "UUS_-4UZBTo3"
      },
      "execution_count": null,
      "outputs": []
    },
    {
      "cell_type": "code",
      "execution_count": null,
      "metadata": {
        "id": "dA-ID00IbrvM"
      },
      "outputs": [],
      "source": [
        "# Obtencion de datos sin que este en el indice\n",
        "#print(df.iloc[1,1])"
      ]
    },
    {
      "cell_type": "code",
      "source": [
        "print(df.iloc[1,1])"
      ],
      "metadata": {
        "id": "zTYl-48eBkDb"
      },
      "execution_count": null,
      "outputs": []
    },
    {
      "cell_type": "code",
      "execution_count": null,
      "metadata": {
        "id": "xCBzTNf7cGQ8"
      },
      "outputs": [],
      "source": [
        "# selecciona columnas por posicion\n",
        "#print (df.iloc[:, 2])"
      ]
    },
    {
      "cell_type": "code",
      "source": [
        "print (df.iloc[:, 2])"
      ],
      "metadata": {
        "id": "7zTUUTVRBnky"
      },
      "execution_count": null,
      "outputs": []
    },
    {
      "cell_type": "code",
      "execution_count": null,
      "metadata": {
        "id": "D3D7ufT-cO9h"
      },
      "outputs": [],
      "source": [
        "# Transpuesta\n",
        "# df.T"
      ]
    },
    {
      "cell_type": "code",
      "source": [
        "df.T"
      ],
      "metadata": {
        "id": "To8aij6EBouv"
      },
      "execution_count": null,
      "outputs": []
    },
    {
      "cell_type": "markdown",
      "metadata": {
        "id": "0gQUrpJYccGh"
      },
      "source": [
        "#### Indexado Booleano"
      ]
    },
    {
      "cell_type": "code",
      "execution_count": null,
      "metadata": {
        "id": "TSG2V1r1cTkl"
      },
      "outputs": [],
      "source": [
        "# Completar"
      ]
    },
    {
      "cell_type": "code",
      "source": [
        "# Seleccionar todas las filas donde 'SepalLengthCm' es mayor que 5.0\n",
        "selected_rows = df[df['SepalLengthCm'] > 5.0]\n",
        "print(selected_rows)"
      ],
      "metadata": {
        "id": "DG8Ab6k9Bqy3"
      },
      "execution_count": null,
      "outputs": []
    },
    {
      "cell_type": "markdown",
      "metadata": {
        "id": "tAu0CN5geolP"
      },
      "source": [
        "### Operaciones básicas con Pandas\n",
        "\n",
        "* Convertir cadenas a series de fechas: `pd.to_datetime(pd.Series(['2017-04-01','2017-04-02','2017-04-03']))`.\n",
        "\n",
        "* Cambiar el nombre de una columna específica: `df.rename(columns={‘old_columnname’:‘new_columnname'}, inplace=True)`\n",
        "\n",
        "* Cambiar el nombre de todas las columnas del DataFrame: `df.columns = ['col1_new_name','col2_new_name'...]`\n",
        "\n",
        "* Marcar duplicados: `df.duplicated()`\n",
        "\n",
        "* Quitar duplicados:`df = df.drop_duplicates()`\n",
        "\n",
        "* Quitar duplicados en una columna específica: `df.drop_duplicates(['column_name'])`\n",
        "\n",
        "* Quitar los duplicados en una columna específica, pero se conserva la primera o la última observación en el conjunto de duplicados: `df.drop_duplicates(['column_name'], keep = 'first') # cambiar al ultimo para conservar la ultima observación del duplicado`.\n",
        "\n",
        "* Crear una nueva columna a partir de una columna existente: `df['new_column_name'] = df['new_column_name'] + 5`\n",
        "\n",
        "* Crear una nueva columna a partir de los elementos de dos columnas: `df['new_column_name'] = df['existing_column1'] + '_' + df['existing_column2']`\n",
        "\n",
        "* Agregar una lista o una nueva columna a DataFrame: `df['new_column_name'] = pd.Series(mylist)`\n",
        "\n",
        "* Descartar las filas y columnas faltantes que tienen valores faltantes: `df.dropna()`\n",
        "\n",
        "* Reemplaza todos los valores faltantes con 0 (o puede usar cualquier int o str): `df.fillna(value=0)`\n",
        "\n",
        "* Reemplaza los valores faltantes con la última observación válida (útil en datos de series de tiempo). Por ejemplo, la temperatura no cambia drásticamente en comparación con una observación anterior. Una forma es llenar de NA forward-backward más alla de la media.\n",
        "\n",
        "    1) 'pad' / 'ffill' - forward fill\n",
        "\n",
        "    2) 'bfill'/'backfill' - backward fill\n",
        "\n",
        "    Límite: si se especifica el método, este es el número máximo de valores de NaN consecutivos para completar forward/backward fill: `df.fillna (method = 'ffill', inplace= True, limit = 1)`\n",
        "\n",
        "* Verifica la condición del valor faltante y devuelva el valor Booleano de `True` o `False` para cada celda: `pd.isnull(df)`\n",
        "\n",
        "* Reemplaza todos los valores faltantes para una columna dada con la media: `mean=df['column_name].mean(); df['column_name'].fillna(mean)`\n",
        "\n",
        "* Devuelve la media para cada columna: `df.mean()`\n",
        "\n",
        "* Retorna el máximo para cada columna: `df.max()`\n",
        "\n",
        "* Retorno el mínimo para cada columna: `df.min()`\n",
        "\n",
        "* Devuelve la suma para cada columna: `df.sum()`\n",
        "\n",
        "* Conteo para cada columna: `df.count()`\n",
        "\n",
        "* Devuelve la suma acumulada para cada columna: `df.cumsum()`\n",
        "\n",
        "* Aplica una función a lo largo de cualquier eje del DataFrame: `df.apply(np.cumsum)`\n",
        "\n",
        "* Itera sobre cada elemento de una serie y realizar la acción deseada: `df['column_name'].map(lambda x: 1+x) # esto itera sobre la columna y agrega el valor 1 a cada elemento`\n",
        "\n",
        "* Aplica una función a cada elemento del dataframe:`func = lambda x: x + 1 # función para agregar una constante 1 a cada elemento del dataframe df.applymap(func)`."
      ]
    },
    {
      "cell_type": "code",
      "execution_count": null,
      "metadata": {
        "id": "LT8uTUz6dmIb",
        "colab": {
          "base_uri": "https://localhost:8080/"
        },
        "outputId": "50c36bf8-d249-420d-f291-c49cc73523db"
      },
      "outputs": [
        {
          "output_type": "execute_result",
          "data": {
            "text/plain": [
              "0   2017-04-01\n",
              "1   2017-04-02\n",
              "2   2017-04-03\n",
              "3   2017-04-04\n",
              "dtype: datetime64[ns]"
            ]
          },
          "metadata": {},
          "execution_count": 39
        }
      ],
      "source": [
        "cadena_fechas = ('2017-04-01','2017-04-02','2017-04-03','2017-04-04')\n",
        "pd.to_datetime(pd.Series(cadena_fechas))"
      ]
    },
    {
      "cell_type": "code",
      "execution_count": null,
      "metadata": {
        "id": "A6Gm80pLpQCe"
      },
      "outputs": [],
      "source": [
        "#df.rename(columns = {'Sepal.Length': 'Sepal_Length'}, inplace=True)\n",
        "df.rename(columns = {'Sepal.Length': 'Sepal_Length'}, inplace=True)"
      ]
    },
    {
      "cell_type": "code",
      "execution_count": null,
      "metadata": {
        "id": "2LJNuhlYpoWJ"
      },
      "outputs": [],
      "source": [
        "#df.columns = ['Sepal_Length', 'Sepal_Width', 'Petal_Length', 'Petal_Width', 'Species']\n",
        "df.columns = ['Sepal_Length', 'Sepal_Width', 'Petal_Length', 'Petal_Width', 'Species']"
      ]
    },
    {
      "cell_type": "code",
      "execution_count": null,
      "metadata": {
        "id": "82eOr0OmqCvT"
      },
      "outputs": [],
      "source": [
        "# Removemos los duplicados\n",
        "\n",
        "data_1 = {'primer_nombre': ['Amy', 'Amy', 'Jason', 'Nick', 'Stephen','Amy'],\n",
        "        'ultimo_nombre': ['Jackson', 'J', 'Miller', 'Milner', 'L','J'],\n",
        "        'edad': [42, 42, 36, 24, 24, 42]}\n",
        "df = pd.DataFrame(data_1, columns = ['primer_nombre', 'ultimo_nombre', 'edad'])\n",
        "print(df)"
      ]
    },
    {
      "cell_type": "code",
      "execution_count": null,
      "metadata": {
        "id": "41fI6CqsqeGT"
      },
      "outputs": [],
      "source": [
        "#print(df.duplicated())\n",
        "print(df.duplicated())"
      ]
    },
    {
      "cell_type": "code",
      "execution_count": null,
      "metadata": {
        "id": "AeQFP7fYrjc4"
      },
      "outputs": [],
      "source": [
        "# print(df.drop_duplicates())\n",
        "print(df.drop_duplicates())"
      ]
    },
    {
      "cell_type": "code",
      "execution_count": null,
      "metadata": {
        "id": "sPee656ar2sr"
      },
      "outputs": [],
      "source": [
        "#df.drop_duplicates(['primer_nombre'], keep ='first')\n",
        "df.drop_duplicates(['primer_nombre'], keep ='first')"
      ]
    },
    {
      "cell_type": "markdown",
      "metadata": {
        "id": "3IixKLGCwgH3"
      },
      "source": [
        "**Ejercicio**\n",
        "\n",
        "* Agrega las columnas siguientes: `edad_mas_5`, `nombre_completo` y `genero`\n",
        " - `edad_mas_5`viene de sumar 5 a la etiqueta `edad`\n",
        " - `nombre_completo` viene de sumar las etiquetas `primer_nombre`, `_` y `ultimo_nombre`\n",
        " - `genero` es una serie de elementos `'F','F','M','M','M','F'.`"
      ]
    },
    {
      "cell_type": "code",
      "execution_count": null,
      "metadata": {
        "id": "Hju_v1OUs8XV"
      },
      "outputs": [],
      "source": [
        "# Tu respuesta"
      ]
    },
    {
      "cell_type": "code",
      "source": [
        "df = pd.DataFrame(data)\n",
        "\n",
        "# Agregar columnas\n",
        "df = df.assign(edad_mas_5=df['edad'] + 5,\n",
        "               nombre_completo=df['primer_nombre'] + ' ' + df['ultimo_nombre'],\n",
        "               genero=pd.Series(['F', 'F', 'M', 'M', 'M', 'F']))\n",
        "\n",
        "# Imprimir DataFrame resultante\n",
        "print(df)"
      ],
      "metadata": {
        "id": "CwK85M8DcPxX"
      },
      "execution_count": null,
      "outputs": []
    },
    {
      "cell_type": "markdown",
      "metadata": {
        "id": "LV8Khzaqt5oY"
      },
      "source": [
        "#### Datos perdidos\n",
        "\n",
        "pandas usa principalmente el valor `np.nan` para representar los datos que faltan. Por defecto no se incluye en los cálculos."
      ]
    },
    {
      "cell_type": "code",
      "execution_count": null,
      "metadata": {
        "id": "yt3FCXUatdUc"
      },
      "outputs": [],
      "source": [
        "#df.iloc[4,2] = np.nan\n",
        "#print(df)"
      ]
    },
    {
      "cell_type": "code",
      "execution_count": null,
      "metadata": {
        "id": "YtXj19W1uKMf"
      },
      "outputs": [],
      "source": [
        "#print(df.dropna())"
      ]
    },
    {
      "cell_type": "code",
      "execution_count": null,
      "metadata": {
        "id": "gGa-aAkAyNgf"
      },
      "outputs": [],
      "source": [
        "#df.iloc[4,2] = np.nan\n",
        "#print(df)"
      ]
    },
    {
      "cell_type": "code",
      "execution_count": null,
      "metadata": {
        "id": "JCU5_DJQyZQV"
      },
      "outputs": [],
      "source": [
        "#df.fillna(value =0)"
      ]
    },
    {
      "cell_type": "code",
      "execution_count": null,
      "metadata": {
        "id": "zYtIIvVZyiMA"
      },
      "outputs": [],
      "source": [
        "#df.iloc[4,2] = np.nan\n",
        "#print(df)"
      ]
    },
    {
      "cell_type": "code",
      "execution_count": null,
      "metadata": {
        "id": "APXmU7Gxyno_"
      },
      "outputs": [],
      "source": [
        "#pd.isnull(df)"
      ]
    },
    {
      "cell_type": "markdown",
      "metadata": {
        "id": "GCTGKdTqwgH5"
      },
      "source": [
        "#### Operaciones"
      ]
    },
    {
      "cell_type": "code",
      "execution_count": null,
      "metadata": {
        "id": "7qPO8OHUyv-x"
      },
      "outputs": [],
      "source": [
        "#media = df['edad'].mean()\n",
        "#media\n",
        "# usamos la media para reeemplazar el NaN\n",
        "# completar\n",
        "df['edad'].fillna(media, inplace=True)\n",
        "print(df)"
      ]
    },
    {
      "cell_type": "code",
      "execution_count": null,
      "metadata": {
        "id": "1MDuqS7UzGtZ"
      },
      "outputs": [],
      "source": [
        "#df.fillna(method='ffill', inplace=True, limit=1)"
      ]
    },
    {
      "cell_type": "code",
      "execution_count": null,
      "metadata": {
        "id": "Hm-mCI_WztC0"
      },
      "outputs": [],
      "source": [
        "#import warnings\n",
        "#warnings.filterwarnings('ignore')\n",
        "#df.mean()"
      ]
    },
    {
      "cell_type": "code",
      "execution_count": null,
      "metadata": {
        "id": "JzIZIUh50FgX"
      },
      "outputs": [],
      "source": [
        "#df.min()"
      ]
    },
    {
      "cell_type": "code",
      "execution_count": null,
      "metadata": {
        "id": "C-msyIYt0bri"
      },
      "outputs": [],
      "source": [
        "#df.max()"
      ]
    },
    {
      "cell_type": "code",
      "execution_count": null,
      "metadata": {
        "id": "NS_ZaD6J0e9x"
      },
      "outputs": [],
      "source": [
        "#df.sum()"
      ]
    },
    {
      "cell_type": "code",
      "execution_count": null,
      "metadata": {
        "id": "Jcn-IglW0hXK"
      },
      "outputs": [],
      "source": [
        "#df.count()"
      ]
    },
    {
      "cell_type": "code",
      "execution_count": null,
      "metadata": {
        "id": "TAq1dqYH0kFe"
      },
      "outputs": [],
      "source": [
        "#df.cumsum()"
      ]
    },
    {
      "cell_type": "markdown",
      "metadata": {
        "id": "7qJamnllXGKQ"
      },
      "source": [
        "#### Aplicación de función a elemento, columna o dataframe\n"
      ]
    },
    {
      "cell_type": "code",
      "execution_count": null,
      "metadata": {
        "id": "M_cB15f70m6-"
      },
      "outputs": [],
      "source": [
        "# completar"
      ]
    },
    {
      "cell_type": "code",
      "source": [
        "# Definir una función\n",
        "def duplicar_valor(x):\n",
        "    return x * 2\n",
        "\n",
        "# Aplicar la función a un elemento específico\n",
        "elemento = df.loc[0, 'edad']\n",
        "resultado = duplicar_valor(elemento)\n",
        "print(resultado)"
      ],
      "metadata": {
        "id": "7kBxvQ7jeGt9"
      },
      "execution_count": null,
      "outputs": []
    },
    {
      "cell_type": "code",
      "execution_count": null,
      "metadata": {
        "id": "6t1wvCStXU1O"
      },
      "outputs": [],
      "source": [
        "# Map: itera sobre cada elemento de una serie\n",
        "# Completar agrega una constante 1 a cada elemento de la column1"
      ]
    },
    {
      "cell_type": "code",
      "source": [
        "# Definir la función\n",
        "def agregar_constante(valor):\n",
        "    return valor + 1\n",
        "\n",
        "# Aplicar la función a cada elemento de la columna utilizando map()\n",
        "df['column1'] = df['column1'].map(agregar_constante)\n",
        "\n",
        "# Imprimir DataFrame resultante\n",
        "print(df)"
      ],
      "metadata": {
        "id": "8k264F8deLwi"
      },
      "execution_count": null,
      "outputs": []
    },
    {
      "cell_type": "code",
      "execution_count": null,
      "metadata": {
        "id": "mYEdjDSUXmrb"
      },
      "outputs": [],
      "source": [
        "#func=lambda x: x+1\n",
        "#df_filtrado = df.iloc[:, 2:4]\n",
        "#print(df_filtrado)"
      ]
    },
    {
      "cell_type": "code",
      "execution_count": null,
      "metadata": {
        "id": "YBiAYP8jYnzO"
      },
      "outputs": [],
      "source": [
        "#print(df_filtrado.applymap(func))"
      ]
    },
    {
      "cell_type": "markdown",
      "metadata": {
        "id": "TE491VCjwgH7"
      },
      "source": [
        "**Ejemplo**\n",
        "\n",
        "La parte del poder de pandas se da por los métodos integrados en los objetos Series y DataFrame."
      ]
    },
    {
      "cell_type": "code",
      "execution_count": null,
      "metadata": {
        "id": "M9ns-CkSwgH7"
      },
      "outputs": [],
      "source": [
        "from io import StringIO\n",
        "data = StringIO('''UPC,Units,Sales,Date\n",
        "1234,5,20.2,1-1-2014\n",
        "1234,2,8.,1-2-2014\n",
        "1234,3,13.,1-3-2014\n",
        "789,1,2.,1-1-2014\n",
        "789,2,3.8,1-2-2014\n",
        "789,,,1-3-2014\n",
        "789,1,1.8,1-5-2014''')"
      ]
    },
    {
      "cell_type": "code",
      "execution_count": null,
      "metadata": {
        "id": "qXzdiO2rwgH7"
      },
      "outputs": [],
      "source": [
        "sales = pd.read_csv(data)\n",
        "sales"
      ]
    },
    {
      "cell_type": "code",
      "execution_count": null,
      "metadata": {
        "id": "X5XmVsspwgH8"
      },
      "outputs": [],
      "source": [
        "sales.shape"
      ]
    },
    {
      "cell_type": "code",
      "execution_count": null,
      "metadata": {
        "id": "hd_R__gZwgH8"
      },
      "outputs": [],
      "source": [
        "sales.info()"
      ]
    },
    {
      "cell_type": "markdown",
      "metadata": {
        "id": "I1PidAKjwgH8"
      },
      "source": [
        "A diferencia del objeto `Series` que prueba la pertenencia con el índice, el `DataFrame` prueba la pertenencia con las columnas. El comportamiento de iteración `(__iter__)` y el comportamiento de pertenencia `(__contains__)` es el mismo para el `DataFrame`."
      ]
    },
    {
      "cell_type": "markdown",
      "metadata": {
        "id": "vlkRjUijwgH8"
      },
      "source": [
        "#### Operaciones de índice\n"
      ]
    },
    {
      "cell_type": "code",
      "execution_count": null,
      "metadata": {
        "id": "rkQLEo6_wgH8"
      },
      "outputs": [],
      "source": [
        "#sales.reindex([0, 4])"
      ]
    },
    {
      "cell_type": "code",
      "execution_count": null,
      "metadata": {
        "id": "0_gLMTxMwgH8"
      },
      "outputs": [],
      "source": [
        "#sales.reindex(columns=['Date', 'Sales'])"
      ]
    },
    {
      "cell_type": "markdown",
      "metadata": {
        "id": "tcWjvA8JwgH8"
      },
      "source": [
        "La selección de columnas e índices se puede combinar para refinar aún más la selección. Además, se pueden incluir nuevas entradas para valores de índices y nombres de columna. Por defecto, usarán el parámetro opcional `fill_value` (que es NaN a menos que se especifique):"
      ]
    },
    {
      "cell_type": "code",
      "execution_count": null,
      "metadata": {
        "id": "MFFFWK8ZwgH8"
      },
      "outputs": [],
      "source": [
        "#sales.reindex(index=[2, 6, 8], columns=['Sales', 'MIT', 'missing'])"
      ]
    },
    {
      "cell_type": "code",
      "execution_count": null,
      "metadata": {
        "id": "8fSK7zsPwgH9"
      },
      "outputs": [],
      "source": [
        "#by_date = sales.set_index('Date')\n",
        "#by_date"
      ]
    },
    {
      "cell_type": "markdown",
      "metadata": {
        "id": "NAeGq8uKwgH9"
      },
      "source": [
        "Para agregar un índice entero creciente a un data frame, usa `.reset_index`:"
      ]
    },
    {
      "cell_type": "code",
      "execution_count": null,
      "metadata": {
        "id": "m1CGR0grwgH9"
      },
      "outputs": [],
      "source": [
        "#by_date.reset_index()"
      ]
    },
    {
      "cell_type": "markdown",
      "metadata": {
        "id": "iOIaiVyLwgH9"
      },
      "source": [
        "#### Obtener y establecer valores\n"
      ]
    },
    {
      "cell_type": "code",
      "execution_count": null,
      "metadata": {
        "id": "gYAt-GBJwgH9"
      },
      "outputs": [],
      "source": [
        "#sales.iat[4, 2]"
      ]
    },
    {
      "cell_type": "markdown",
      "metadata": {
        "id": "yBvVzl9nwgH9"
      },
      "source": [
        "\n",
        "A continuación, insertamos una columna `Category` después de ` UPC`  (en la posición 1):"
      ]
    },
    {
      "cell_type": "code",
      "execution_count": null,
      "metadata": {
        "id": "GkJsxVswwgH9"
      },
      "outputs": [],
      "source": [
        "#sales.insert(1, 'Category', 'Food')\n",
        "#sales"
      ]
    },
    {
      "cell_type": "markdown",
      "metadata": {
        "id": "q7SZQwK0wgH9"
      },
      "source": [
        "El método `.replace` es una forma poderosa de actualizar muchos valores de un data frame en las columnas. Para reemplazar todos los 789 con 790, realiza lo siguiente:"
      ]
    },
    {
      "cell_type": "code",
      "execution_count": null,
      "metadata": {
        "id": "UIidjQGHwgH-"
      },
      "outputs": [],
      "source": [
        "#sales.replace(789, 790)"
      ]
    },
    {
      "cell_type": "code",
      "execution_count": null,
      "metadata": {
        "id": "DyEaFFECwgH-"
      },
      "outputs": [],
      "source": [
        "#sales.replace({'UPC': {789:790},\n",
        "#               'Sales': {789: 1.4}})"
      ]
    },
    {
      "cell_type": "markdown",
      "metadata": {
        "id": "EYe39VMGwgH-"
      },
      "source": [
        "El método `replace` también acepta expresiones regulares (pueden ser incluidas en diccionarios anidados) si  el paramétro`regex` se coloca en `True`."
      ]
    },
    {
      "cell_type": "code",
      "execution_count": null,
      "metadata": {
        "id": "nhKdyXNXwgH-"
      },
      "outputs": [],
      "source": [
        "#sales.replace('(F.*d)', r'\\1_stuff', regex=True)"
      ]
    },
    {
      "cell_type": "markdown",
      "metadata": {
        "id": "EaOZl5n7wgH-"
      },
      "source": [
        "#### Eliminación de  columnas\n",
        "\n",
        "Hay al menos cuatro formas de eliminar una columna:\n",
        "\n",
        "* El método `.pop`\n",
        "\n",
        "* El método `.drop` con `axis = 1`\n",
        "\n",
        "* El método `.reindex`\n",
        "\n",
        "* Indexación con una lista de nuevas columnas\n",
        "\n",
        "El método `.pop` toma el nombre de una columna y lo elimina del data frame. Opera in-place. En lugar de devolver un data frame, devuelve la columna eliminada."
      ]
    },
    {
      "cell_type": "code",
      "execution_count": null,
      "metadata": {
        "id": "hg2PkeUSwgH-"
      },
      "outputs": [],
      "source": [
        "#sales['subcat'] = 'Dairy'\n",
        "#sales"
      ]
    },
    {
      "cell_type": "code",
      "execution_count": null,
      "metadata": {
        "id": "4UCwhKWFwgH-"
      },
      "outputs": [],
      "source": [
        "#sales.pop('subcat')"
      ]
    },
    {
      "cell_type": "code",
      "execution_count": null,
      "metadata": {
        "id": "maHQdzAGwgH-"
      },
      "outputs": [],
      "source": [
        "#sales"
      ]
    },
    {
      "cell_type": "markdown",
      "metadata": {
        "id": "0gFm98PcwgH-"
      },
      "source": [
        "Para quitar una columna con el método `.drop`, simplemente páselo (o una lista de nombres de columna) junto con la configuración del parámetro `axis` en 1:"
      ]
    },
    {
      "cell_type": "code",
      "execution_count": null,
      "metadata": {
        "id": "LOrlKGH5wgH_"
      },
      "outputs": [],
      "source": [
        "# completar"
      ]
    },
    {
      "cell_type": "code",
      "source": [
        "# Quitar una columna\n",
        "df = df.drop('column2', axis=1)\n",
        "\n",
        "# Imprimir DataFrame resultante\n",
        "print(df)"
      ],
      "metadata": {
        "id": "wbisOVt3fEjf"
      },
      "execution_count": null,
      "outputs": []
    },
    {
      "cell_type": "markdown",
      "metadata": {
        "id": "xDbUrhSDwgH_"
      },
      "source": [
        "#### Los dos métodos finales para eliminar columnas"
      ]
    },
    {
      "cell_type": "code",
      "execution_count": null,
      "metadata": {
        "id": "FyHOwuSKwgH_"
      },
      "outputs": [],
      "source": [
        "#cols = ['Sales', 'Date']"
      ]
    },
    {
      "cell_type": "code",
      "execution_count": null,
      "metadata": {
        "id": "xF8osyEVwgH_"
      },
      "outputs": [],
      "source": [
        "#sales.reindex(columns=cols)"
      ]
    },
    {
      "cell_type": "code",
      "execution_count": null,
      "metadata": {
        "id": "XSyvZpSjwgH_"
      },
      "outputs": [],
      "source": [
        "#sales[cols]"
      ]
    },
    {
      "cell_type": "markdown",
      "metadata": {
        "id": "z6nJr9_3wgH_"
      },
      "source": [
        "#### Recortes\n"
      ]
    },
    {
      "cell_type": "code",
      "execution_count": null,
      "metadata": {
        "id": "Dj7iZD_xwgH_"
      },
      "outputs": [],
      "source": [
        "#sales.head()"
      ]
    },
    {
      "cell_type": "code",
      "execution_count": null,
      "metadata": {
        "id": "BFIIDPXPwgH_"
      },
      "outputs": [],
      "source": [
        "#sales.tail(2)"
      ]
    },
    {
      "cell_type": "markdown",
      "metadata": {
        "id": "U51mWt8bwgH_"
      },
      "source": [
        "Usemos un índice basado en cadenas para que quede más claro qué hacen las opciones de recorte:"
      ]
    },
    {
      "cell_type": "code",
      "execution_count": null,
      "metadata": {
        "id": "qw6s151lwgIA"
      },
      "outputs": [],
      "source": [
        "# completar"
      ]
    },
    {
      "cell_type": "code",
      "source": [
        "df.index = df['new_index']"
      ],
      "metadata": {
        "id": "NyxGcH6BfngM"
      },
      "execution_count": null,
      "outputs": []
    },
    {
      "cell_type": "code",
      "execution_count": null,
      "metadata": {
        "id": "hInYFbL_wgIA"
      },
      "outputs": [],
      "source": [
        "#del sales['new_index']"
      ]
    },
    {
      "cell_type": "code",
      "execution_count": null,
      "metadata": {
        "id": "y2Kir3N0wgIA"
      },
      "outputs": [],
      "source": [
        "#df"
      ]
    },
    {
      "cell_type": "markdown",
      "metadata": {
        "id": "UppTJdeBwgIA"
      },
      "source": [
        "Para dividir por posición, usa el atributo `.iloc`. Aquí tomamos filas en las posiciones dos hasta cuatro, pero sin incluirlas:"
      ]
    },
    {
      "cell_type": "code",
      "execution_count": null,
      "metadata": {
        "id": "DwRjF2gbwgIA"
      },
      "outputs": [],
      "source": [
        "#df.iloc[2:4]"
      ]
    },
    {
      "cell_type": "markdown",
      "metadata": {
        "id": "7gyrglmQwgIA"
      },
      "source": [
        "También podemos proporcionar posiciones de columna que también queremos mantener. Las posiciones de las columnas deben seguir una coma en la operación de índice. Aquí mantenemos las filas desde dos hasta pero sin incluir la fila cuatro. También tomamos columnas desde cero hasta pero sin incluir uno (solo la columna en la posición de índice cero).\n",
        "\n",
        "Esto se expresa en la siguiente figura:\n",
        "\n",
        "\n",
        "<img src=\"recorte-pandas.png\" alt=\"Drawing\" style=\"width: 500px;\"/>\n",
        "\n",
        "A continuación se muestra un resumen de las construcciones de  de data frame por posición y etiqueta.\n",
        "\n",
        "\n",
        "```\n",
        ".iloc [i: j]            Posición de filas i hasta pero sin incluir j (semiabierto)\n",
        ".iloc [:, i: j]         Posición de las columnas i hasta pero sin incluir j (semiabierto)\n",
        ".iloc [[i, k, m]]       Filas en i, k y m (no es un intervalo)\n",
        ".loc [a: b]             Filas desde la etiqueta de índice a hasta b (cerrado)\n",
        ".loc [:, c: d]          Columnas de la etiqueta de columna c a d (cerrado)\n",
        ".loc [: [b, d, f]]      Columnas en las etiquetas b, d y f (no es un intervalo)\n",
        "\n",
        "```\n",
        "\n",
        "<img src=\"recorte-ejemplo.png\" alt=\"Drawing\" style=\"width: 600px;\"/>"
      ]
    },
    {
      "cell_type": "code",
      "execution_count": null,
      "metadata": {
        "id": "os9ZdPE7wgIA"
      },
      "outputs": [],
      "source": [
        "#df = df.drop(['Category'], axis=1)\n",
        "#df"
      ]
    },
    {
      "cell_type": "code",
      "execution_count": null,
      "metadata": {
        "id": "hBakvaikwgIA"
      },
      "outputs": [],
      "source": [
        "# df.iloc[2:4, 0:1]"
      ]
    },
    {
      "cell_type": "markdown",
      "metadata": {
        "id": "gh_ioF_fwgIB"
      },
      "source": [
        "También hay soporte para dividir datos por etiquetas. Usando el atributo `.loc`, podemos tomar valores de índice desde la `a` a la `d`:"
      ]
    },
    {
      "cell_type": "code",
      "execution_count": null,
      "metadata": {
        "id": "5cV-qRdAwgIB"
      },
      "outputs": [],
      "source": [
        "# completar\n",
        "seleccionado = df.loc['a':'d']\n",
        "print(seleccionado)"
      ]
    },
    {
      "cell_type": "markdown",
      "metadata": {
        "id": "wjrgqYD3wgIB"
      },
      "source": [
        "Y al igual que `.iloc`, `.loc` tiene la capacidad de especificar columnas por etiqueta. En este ejemplo, solo tomamos la columna `Units` y, por lo tanto, devuelve una serie:"
      ]
    },
    {
      "cell_type": "code",
      "execution_count": null,
      "metadata": {
        "id": "9c0l8tPewgIB"
      },
      "outputs": [],
      "source": [
        "# completar\n",
        "# Seleccionar la columna 'Units' por etiqueta y obtener una Serie\n",
        "columna_seleccionada = df.loc[:, 'Units']\n",
        "\n",
        "# Imprimir Serie resultante\n",
        "print(columna_seleccionada)"
      ]
    },
    {
      "cell_type": "markdown",
      "metadata": {
        "id": "M7gleIg7wgIB"
      },
      "source": [
        "Sacamos las columnas `UPC` y `Sales`, pero con solo los últimos 4 valores:"
      ]
    },
    {
      "cell_type": "code",
      "execution_count": null,
      "metadata": {
        "id": "5qMuI1HVwgIB"
      },
      "outputs": [],
      "source": [
        "# Completar\n",
        "# Seleccionar las columnas 'UPC' y 'Sales' con los últimos 4 valores\n",
        "seleccionado = df.loc[-4:, ['UPC', 'Sales']]\n",
        "\n",
        "# Imprimir DataFrame resultante\n",
        "print(seleccionado)"
      ]
    },
    {
      "cell_type": "markdown",
      "metadata": {
        "id": "B7n_sZSRZAOZ"
      },
      "source": [
        "### Merge/Join\n"
      ]
    },
    {
      "cell_type": "code",
      "execution_count": null,
      "metadata": {
        "id": "E-2aVs4aY0Vr"
      },
      "outputs": [],
      "source": [
        "data = {\n",
        "        'emp_id': ['1', '2', '3', '4', '5'],\n",
        "        'primer_nombre': ['Jason', 'Andy', 'Allen', 'John', 'Amy'],\n",
        "        'ultimo_nombre': ['Larkin', 'Jacob', 'A', 'AA', 'Jackson']}\n",
        "df_1 = pd.DataFrame(data, columns = ['emp_id', 'primer_nombre', 'ultimo_nombre'])\n",
        "print (df_1)"
      ]
    },
    {
      "cell_type": "code",
      "execution_count": null,
      "metadata": {
        "id": "jA72OR5JZZ6f"
      },
      "outputs": [],
      "source": [
        "data = {\n",
        "        'emp_id': ['4', '5', '6', '7'],\n",
        "        'primer_nombre': ['James', 'Shize', 'Kim', 'Jose'],\n",
        "        'ultimo_nombre': ['Alexander', 'Suma', 'Mike', 'G']}\n",
        "df_2 = pd.DataFrame(data, columns = ['emp_id', 'primer_nombre', 'ultimo_nombre'])\n",
        "print (df_2)"
      ]
    },
    {
      "cell_type": "code",
      "execution_count": null,
      "metadata": {
        "id": "FR8uGPpNZlgO"
      },
      "outputs": [],
      "source": [
        "# usando concat\n",
        "df = pd.concat([df_1, df_2])\n",
        "print(df)"
      ]
    },
    {
      "cell_type": "code",
      "execution_count": null,
      "metadata": {
        "id": "IfJmK4rLZ5-X"
      },
      "outputs": [],
      "source": [
        "# Juntando dos dataframes a lo largo de las columnas\n",
        "pd.concat([df_1,df_2], axis=1)"
      ]
    },
    {
      "cell_type": "markdown",
      "metadata": {
        "id": "Dob92Mh8cy-Q"
      },
      "source": [
        "Combinamos dos dataframes basados en el valor `emp_id` en este caso, solo se unirán los `emp_id` presentes en ambas tablas."
      ]
    },
    {
      "cell_type": "code",
      "execution_count": null,
      "metadata": {
        "id": "Qm6FdoJBbf8z"
      },
      "outputs": [],
      "source": [
        "print(pd.merge(df_1,df_2, on='emp_id'))"
      ]
    },
    {
      "cell_type": "markdown",
      "metadata": {
        "id": "0_0FPmAtm7l_"
      },
      "source": [
        "### Grouping\n",
        "\n",
        "\n",
        "Pandas nos brinda la capacidad de agrupar data frames por valores de columna y luego fusionarlos nuevamente en un resultado con el método `.groupby`.\n",
        "Pandas `group by` nos permitirá lograr lo siguiente:\n",
        "\n",
        "- Aplicar una función de agregación a cada grupo de forma independiente\n",
        "- Según algunos criterios, divide los datos en grupos.\n",
        "- Combinar los resultados del `group by` en una estructura de datos.\n",
        "\n",
        "\n",
        "<img src=\"Groupby.png\" alt=\"Drawing\" style=\"width: 700px;\"/>\n",
        "\n",
        "Como ejemplo, en el data frame `scores`, calcularemos las puntuaciones medias de cada maestro. Primero llamamos a `.groupby` y entonces invocamos a `.median` en el resultado:"
      ]
    },
    {
      "cell_type": "code",
      "execution_count": null,
      "metadata": {
        "id": "cntuhZ7rwgIC"
      },
      "outputs": [],
      "source": [
        "#scores = pd.DataFrame({\n",
        "#    'name':['Adam', 'Bob', 'Dave', 'Fred'],\n",
        "#    'age': [15, 16, 16, 15],\n",
        "#    'test1': [95, 81, 89, None],\n",
        "#    'test2': [80, 82, 84, 88],\n",
        "#    'teacher': ['Ashby', 'Ashby', 'Jones', 'Jones']})"
      ]
    },
    {
      "cell_type": "code",
      "execution_count": null,
      "metadata": {
        "id": "bWFuZaBEwgIC"
      },
      "outputs": [],
      "source": [
        "# completar\n",
        "# Calcular las puntuaciones medias de cada maestro\n",
        "puntuaciones_medias = scores.groupby('teacher').mean()\n",
        "\n",
        "# Imprimir el resultado\n",
        "print(puntuaciones_medias)"
      ]
    },
    {
      "cell_type": "markdown",
      "metadata": {
        "id": "j8r_TqXBwgIC"
      },
      "source": [
        "Esto incluyó la columna `age`, para ignorar que podemos separar solo las columnas de prueba:"
      ]
    },
    {
      "cell_type": "code",
      "execution_count": null,
      "metadata": {
        "id": "OsJHxsM1wgID"
      },
      "outputs": [],
      "source": [
        "# completar\n",
        "# Separar solo las columnas de prueba\n",
        "pruebas = scores[['test1', 'test2', 'teacher']]\n",
        "\n",
        "# Calcular las puntuaciones medias de cada maestro\n",
        "puntuaciones_medias = pruebas.groupby('teacher').mean()\n",
        "\n",
        "# Imprimir el resultado\n",
        "print(puntuaciones_medias)"
      ]
    },
    {
      "cell_type": "markdown",
      "metadata": {
        "id": "hjwrrDU5wgID"
      },
      "source": [
        "Para encontrar los valores medianos de cada grupo de edad para cada maestro, simplemente agrupa por maestro y edad:\n"
      ]
    },
    {
      "cell_type": "code",
      "execution_count": null,
      "metadata": {
        "id": "b9CID_cFwgID"
      },
      "outputs": [],
      "source": [
        "# completar\n",
        "# Calcular los valores medianos de cada grupo de edad para cada maestro\n",
        "valores_medianos = scores.groupby(['teacher', 'age']).median()\n",
        "\n",
        "# Imprimir el resultado\n",
        "print(valores_medianos)"
      ]
    },
    {
      "cell_type": "markdown",
      "metadata": {
        "id": "kKLJZ41ywgID"
      },
      "source": [
        "Si queremos los puntajes mínimos y máximos de las pruebas por maestro, usamos el método `.agg` y pasamos una lista de funciones para llamar:"
      ]
    },
    {
      "cell_type": "code",
      "execution_count": null,
      "metadata": {
        "id": "jI43242_wgID"
      },
      "outputs": [],
      "source": [
        "# completar\n",
        "# Obtener los puntajes mínimos y máximos de las pruebas por maestro\n",
        "puntajes_min_max = scores.groupby('teacher').agg(['min', 'max'])\n",
        "\n",
        "# Imprimir el resultado\n",
        "print(puntajes_min_max)"
      ]
    },
    {
      "cell_type": "markdown",
      "metadata": {
        "id": "QO_d3yj_wgID"
      },
      "source": [
        "**Ejercicio**"
      ]
    },
    {
      "cell_type": "code",
      "execution_count": null,
      "metadata": {
        "id": "pK19Cxsgm0nh"
      },
      "outputs": [],
      "source": [
        "df = pd.DataFrame({'Nombre' : ['jack', 'jane', 'jack', 'jane', 'jack', 'jane', 'jack', 'jane'],\n",
        "                   'Estado' : ['SFO', 'SFO', 'NYK', 'CA', 'NYK', 'NYK', 'SFO', 'CA'],\n",
        "                   'Genero':['A','A','B','A','C','B','C','A'],\n",
        "                   'Edad' : np.random.uniform(24, 50, size=8),\n",
        "                   'Salario' : np.random.uniform(3000, 5000, size=8),})"
      ]
    },
    {
      "cell_type": "markdown",
      "metadata": {
        "id": "jHjOj4Zxnz8r"
      },
      "source": [
        "Ten en cuenta que las columnas se ordenan automáticamente en su orden alfabético para un orden personalizado, usa el siguiente código_\n",
        "\n",
        "`df = pd.DataFrame (data, columns = ['Nombre', 'Estado', 'Edad', 'Salario'])`\n",
        "\n",
        "* Calcula la suma por nombres.\n",
        "\n",
        "* Encuentra la edad máxima y el salario por nombre/ estado. Puedes usar todas las funciones agregadas, como mínimo, máximo, media, conteo, suma acumulada."
      ]
    },
    {
      "cell_type": "code",
      "execution_count": null,
      "metadata": {
        "id": "eVwMPRL7oWCp"
      },
      "outputs": [],
      "source": [
        "# Tus  respuestas\n",
        "df = pd.DataFrame(data, columns=['Nombre', 'Estado', 'Genero', 'Edad', 'Salario'])\n",
        "\n",
        "# Suma por nombres\n",
        "suma_por_nombres = df.groupby('Nombre').sum()\n",
        "print(suma_por_nombres)\n",
        "\n",
        "# Edad máxima y salario máximo por nombre/estado\n",
        "max_edad_salario = df.groupby(['Nombre', 'Estado']).agg({'Edad': 'max', 'Salario': 'max'})\n",
        "print(max_edad_salario)"
      ]
    },
    {
      "cell_type": "markdown",
      "metadata": {
        "id": "kn_bSynhpVw9"
      },
      "source": [
        "#### Tablas pivot\n",
        "\n",
        "Pandas proporciona una función `pivot_table` para crear una tabla pivot (dinámica )de estilo de hoja de cálculo de MS-Excel. Puede tomar los siguientes argumentos:\n",
        "\n",
        "- `data`: objeto DataFrame\n",
        "- `values`: columna para agregar\n",
        "- `index`: etiquetas de fila\n",
        "- `columns`: etiquetas de columna\n",
        "- `aggfunc`: función de agregación que se usará en valores, el valor predeterminado es `NumPy.mean`.\n",
        "\n",
        "Usando una tabla pivot, podemos generalizar ciertos comportamientos grupales. Para obtener las puntuaciones medias de los profesores, podemos ejecutar lo siguiente:"
      ]
    },
    {
      "cell_type": "code",
      "execution_count": null,
      "metadata": {
        "id": "E6YHNCUUwgIE"
      },
      "outputs": [],
      "source": [
        "# completar\n",
        "# Obtener las puntuaciones medias de los profesores utilizando una tabla pivot\n",
        "puntuaciones_medias = scores.pivot_table(values=['test1', 'test2'], index='teacher', aggfunc='mean')\n",
        "\n",
        "# Imprimir el resultado\n",
        "print(puntuaciones_medias)"
      ]
    },
    {
      "cell_type": "markdown",
      "metadata": {
        "id": "t1f2aUSTq8uL"
      },
      "source": [
        "Si queremos agregar por maestro y edad, simplemente usamos una lista con ambos para el parámetro `index`:"
      ]
    },
    {
      "cell_type": "code",
      "execution_count": null,
      "metadata": {
        "id": "hwE4s2ubwgIE"
      },
      "outputs": [],
      "source": [
        "#scores.pivot_table(index=['teacher', 'age'],\n",
        "#                   values=['test1', 'test2'],\n",
        "#                   aggfunc='median')"
      ]
    },
    {
      "cell_type": "markdown",
      "metadata": {
        "id": "IBrcK_4kwgIE"
      },
      "source": [
        "Si queremos aplicar múltiples funciones, simplemente usa una lista de ellas. Aquí, analizamos los puntajes mínimos y máximos de las pruebas por maestro:"
      ]
    },
    {
      "cell_type": "code",
      "execution_count": null,
      "metadata": {
        "id": "jJ4EFJegwgIE"
      },
      "outputs": [],
      "source": [
        "#scores.pivot_table(index='teacher',\n",
        "#                   values=['test1', 'test2'],\n",
        "#                   aggfunc=[min, max])"
      ]
    },
    {
      "cell_type": "markdown",
      "metadata": {
        "id": "m1pE0oM9wgIE"
      },
      "source": [
        "Podemos ver que la tabla pivot y de grupo por comportamiento son muy similares. Hay del estilo declarativo de `.pivot_table` y el estilo  semántico de los grupos.\n",
        "\n",
        "Una característica adicional de las tablas pivots es la capacidad de agregar filas de resumen. Simplemente estableciendo `margins= True` obtenemos esta funcionalidad:"
      ]
    },
    {
      "cell_type": "code",
      "execution_count": null,
      "metadata": {
        "id": "jV1pzLfzwgIF"
      },
      "outputs": [],
      "source": [
        "#scores.pivot_table(index='teacher',\n",
        "#                   values=['test1', 'test2'],\n",
        "#                   aggfunc='median', margins=True)"
      ]
    },
    {
      "cell_type": "markdown",
      "metadata": {
        "id": "I9Hrbr-mwgIF"
      },
      "source": [
        "<img src=\"pivot.png\" alt=\"Drawing\" style=\"width: 700px;\"/>"
      ]
    },
    {
      "cell_type": "code",
      "execution_count": null,
      "metadata": {
        "id": "lPf5ROAVwgIF"
      },
      "outputs": [],
      "source": [
        "#scores.pivot_table(index= ['teacher', 'age'],\n",
        "#                   values=['test1', 'test2'],\n",
        "#                   aggfunc=[len, sum], margins=True)"
      ]
    },
    {
      "cell_type": "markdown",
      "metadata": {
        "id": "JVuPHUf6wgIF"
      },
      "source": [
        "<img src=\"pivot-parameters.png\" alt=\"Drawing\" style=\"width: 700px;\"/>"
      ]
    },
    {
      "cell_type": "markdown",
      "metadata": {
        "id": "Heay_i7wwgIF"
      },
      "source": [
        "**Ejercicio** Del dataframe anterior agrupa por estado y nombre y encuentre la edad media para cada grado.\n"
      ]
    },
    {
      "cell_type": "code",
      "execution_count": null,
      "metadata": {
        "id": "zR9fsipjwgIF"
      },
      "outputs": [],
      "source": [
        "## Tu respuesta"
      ]
    },
    {
      "cell_type": "code",
      "execution_count": null,
      "metadata": {
        "id": "9MNGA3pOwgIF"
      },
      "outputs": [],
      "source": [
        "df = pd.DataFrame(data, columns=['Nombre', 'Estado', 'Genero', 'Edad', 'Salario'])\n",
        "\n",
        "# Agrupar por estado y nombre, y encontrar la edad media para cada grupo\n",
        "edad_media_por_estado_nombre = df.pivot_table(values='Edad', index=['Estado', 'Nombre'], aggfunc='mean')\n",
        "\n",
        "# Imprimir el resultado\n",
        "print(edad_media_por_estado_nombre)"
      ]
    }
  ],
  "metadata": {
    "colab": {
      "provenance": []
    },
    "kernelspec": {
      "display_name": "Python 3",
      "language": "python",
      "name": "python3"
    },
    "language_info": {
      "codemirror_mode": {
        "name": "ipython",
        "version": 3
      },
      "file_extension": ".py",
      "mimetype": "text/x-python",
      "name": "python",
      "nbconvert_exporter": "python",
      "pygments_lexer": "ipython3",
      "version": "3.7.10"
    }
  },
  "nbformat": 4,
  "nbformat_minor": 0
}