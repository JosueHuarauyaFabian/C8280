{
  "cells": [
    {
      "cell_type": "markdown",
      "metadata": {
        "id": "SKrTGwKBuuwo"
      },
      "source": [
        "### Matplotlib\n",
        "\n"
      ]
    },
    {
      "cell_type": "code",
      "execution_count": null,
      "metadata": {
        "id": "8SAZcpi4rt2f"
      },
      "outputs": [],
      "source": [
        "import numpy as np\n",
        "import pandas as pd\n",
        "from pandas import DataFrame, Series\n",
        "import matplotlib.pyplot as plt\n",
        "import matplotlib\n",
        "%matplotlib inline\n",
        "\n",
        "import warnings\n",
        "warnings.filterwarnings('ignore')"
      ]
    },
    {
      "cell_type": "markdown",
      "metadata": {
        "id": "ijTVjy6ifoTX"
      },
      "source": [
        "#### Conceptos básicos\n",
        "\n",
        "En esta sección discutiremos algunas terminologías básicas que tenemos en matplotlib, como `Figures`, `Axes`."
      ]
    },
    {
      "cell_type": "markdown",
      "metadata": {
        "id": "owZWv5XFfoTX"
      },
      "source": [
        "#### Introducción a pyplot\n",
        "\n",
        "`Pyplot` es básicamente una colección de funciones de estilo de comando que hacen que matplotlib funcione de manera similar a MATLAB. La idea es que tenemos una colección de funciones y cada función realiza algunos cambios en una figura, y esta figura se considera la figura actual.\n",
        "\n",
        "La primera convención para importar matplotlib a la sesión actual es `matplotlib.pyplot` como plt:\n",
        "\n",
        "```\n",
        "import matplotlib como plt\n",
        "```"
      ]
    },
    {
      "cell_type": "code",
      "execution_count": null,
      "metadata": {
        "id": "9X4Xos_5foTY"
      },
      "outputs": [],
      "source": [
        "import matplotlib.pyplot as plt"
      ]
    },
    {
      "cell_type": "markdown",
      "metadata": {
        "id": "lWinnQLPfoTY"
      },
      "source": [
        "En el siguiente diagrama, tenemos una figura aunque no podemos verla, dentro de la figura tenemos un `subplot`, y dentro de este subplot tenemos una gráfica de línea que es solo una representación gráfica de los números que tenemos en esta lista."
      ]
    },
    {
      "cell_type": "code",
      "execution_count": null,
      "metadata": {
        "id": "m0woAFk-foTY"
      },
      "outputs": [],
      "source": [
        "plt.plot([1,2,3,2.5])"
      ]
    },
    {
      "cell_type": "markdown",
      "metadata": {
        "id": "TZAYuBxSfoTY"
      },
      "source": [
        "**Ejercicio:**\n",
        "\n",
        "En el diagrama anterior, la figura se considera la figura actual. Cualquier otra función que usemos o apliquemos, como la función `plt.ylabel`, colocaría una etiqueta en el eje `y` que se conoce como `ylabel`. La etiqueta, en este caso, son algunos números. Vuelve a ejecutar y visualiza el resultado, en el que podemos ver cómo se aplica esta función."
      ]
    },
    {
      "cell_type": "code",
      "execution_count": null,
      "metadata": {
        "id": "x5XCzTk3foTY"
      },
      "outputs": [],
      "source": [
        "## Tu respuesta\n",
        "import matplotlib.pyplot as plt\n",
        "\n",
        "# Datos de ejemplo\n",
        "x = [1, 2, 3, 4, 5]\n",
        "y = [2, 4, 6, 8, 10]\n",
        "\n",
        "# Crear el gráfico\n",
        "plt.plot(x, y)\n",
        "\n",
        "# Aplicar la etiqueta en el eje y\n",
        "plt.ylabel('Valores de y')\n",
        "\n",
        "# Mostrar el gráfico\n",
        "plt.show()"
      ]
    },
    {
      "cell_type": "markdown",
      "metadata": {
        "id": "cLALB_UyfoTY"
      },
      "source": [
        "La función más utilizada en la interfaz de pyplot es la función `plot`, que puede tomar muchos argumentos. Por ejemplo, si pasamos dos listas de números, asumirá que la primera lista son las coordenadas `x` y la segunda lista son las coordenadas `y`, trazando una línea por defecto.\n"
      ]
    },
    {
      "cell_type": "code",
      "execution_count": null,
      "metadata": {
        "id": "lNimztwvfoTZ"
      },
      "outputs": [],
      "source": [
        "# Completar\n",
        "# Datos de ejemplo\n",
        "x = [1, 2, 3, 4, 5]\n",
        "y = [2, 4, 6, 8, 10]\n",
        "\n",
        "# Trazar una línea utilizando la función plot\n",
        "plt.plot(x, y)\n",
        "\n",
        "# Mostrar el gráfico\n",
        "plt.show()"
      ]
    },
    {
      "cell_type": "markdown",
      "metadata": {
        "id": "c672ycjifoTZ"
      },
      "source": [
        "Esta interfaz funciona construyendo un gráfico como una secuencia de funciones y todas ellas se aplican a la figura actual o al subplot actual.\n",
        "\n",
        "Veamos cómo usualmente construimos un gráfico usando `pyplot` realizando los siguientes pasos:\n",
        "\n",
        "1. Agregaremos dos listas a la función `plot` y, como vimos anteriormente, el comportamiento predeterminado es dibujar una línea; por lo tanto, podemos ver los valores de `x` y los valores de `y` con una línea color azul claro, y un ancho de línea de tamaño 3, con la siguiente línea de comandos:\n",
        "\n",
        "   ```\n",
        "   plt.plot([1, 2, 3, 4], [10, 20, 25, 30], color='lightblue', linewidth=3)\n",
        "   ```\n",
        "\n",
        "2. Un diagrama de dispersión dibuja las coordenadas que proporcionamos en lugar de una línea. En este caso, son las coordenadas `x` y las coordenadas `y`. También creará marcadores del gráfico. Podemos agregar un argumento que definirá los marcadores que se colorearán en verde oscuro.\n",
        "\n",
        "  ```\n",
        "    plt.scatter([0.3, 3.8, 1.2, 2.5], [11, 25, 9, 26], color='darkgreen', marker='^')\n",
        "   ```\n",
        "\n",
        "3. Ahora aplicaremos otra función, que cambiará los límites `x` de la gráfica donde el valor mínimo es `0.5` y el valor máximo es `4.5`, por lo que ahora la gráfica pasará de `0.5` a `4.5` en el eje `x`.\n",
        "\n",
        "   ```\n",
        "   plt.xlim(0.5, 4.5)\n",
        "   ```\n",
        "\n",
        "4. La siguiente función será agregar un título al gráfico y cambiar la etiqueta en `plot`. En el siguiente diagrama, podemos ver cómo hemos agregado el título, la etiqueta x y la etiqueta y del gráfico:\n",
        "\n",
        "    ```\n",
        "    plt.title(\"Titulo del grafico\")\n",
        "    plt.xlabel(\"Esta es la etiqueta X\")\n",
        "    plt.ylabel(\"Esta es la etiqueta Y\");\n",
        "   ```"
      ]
    },
    {
      "cell_type": "code",
      "execution_count": null,
      "metadata": {
        "id": "PjZbfXzQfoTZ"
      },
      "outputs": [],
      "source": [
        "plt.plot([1, 2, 3, 4], [10, 20, 25, 30], color='lightblue', linewidth=3)\n",
        "plt.scatter([0.3, 3.8, 1.2, 2.5], [11, 25, 9, 26], color='darkgreen', marker='^')\n",
        "plt.xlim(0.5, 4.5)\n",
        "plt.title(\"Titulo del grafico\")\n",
        "plt.xlabel(\"Esta es la etiqueta X\")\n",
        "plt.ylabel(\"Esta es la etiqueta Y\");"
      ]
    },
    {
      "cell_type": "markdown",
      "metadata": {
        "id": "8RDBMTwgfoTZ"
      },
      "source": [
        "###  Interfaz orientada a objetos\n",
        "\n",
        "En la **interfaz orientada a objetos**, lo que tenemos que hacer es crear un objeto y llamar a métodos para cada objeto con el fin de realizar cambios específicos en ese objeto.\n",
        ""
      ]
    },
    {
      "cell_type": "code",
      "execution_count": null,
      "metadata": {
        "id": "5bPUvFBzfoTZ"
      },
      "outputs": [],
      "source": [
        "x = np.linspace(-4,4)\n",
        "y1, y2 = x**2, x**3"
      ]
    },
    {
      "cell_type": "code",
      "execution_count": null,
      "metadata": {
        "id": "EkgR8SUafoTa"
      },
      "outputs": [],
      "source": [
        "fig, ax = plt.subplots()\n",
        "ax.plot(x, y1, 'red')\n",
        "ax.plot(x, y2, 'blue')\n",
        "ax.set_title('Potencias cuadraticas y cubicas')\n",
        "ax.set_xlabel('x valores')\n",
        "ax.set_ylabel('y valores');"
      ]
    },
    {
      "cell_type": "markdown",
      "metadata": {
        "id": "foS_qVDTfoTa"
      },
      "source": [
        "Ahora, veamos cómo podemos reproducir el mismo gráfico usando la interfaz de `pyplot`.\n"
      ]
    },
    {
      "cell_type": "code",
      "execution_count": null,
      "metadata": {
        "id": "ZGAhZhRSfoTa"
      },
      "outputs": [],
      "source": [
        "plt.plot(x, y1, 'red', x, y2, 'blue')\n",
        "plt.title('Potencias cuadraticas y cubicas')\n",
        "plt.xlabel('x valores')\n",
        "plt.ylabel('y valores')"
      ]
    },
    {
      "cell_type": "markdown",
      "metadata": {
        "id": "6JNo7HTDfoTa"
      },
      "source": [
        "#### ¿Cuál es la ventaja de utilizar la interfaz orientada a objetos ?.\n",
        "\n",
        "El siguiente diagrama, tenemos cuatro subplots:"
      ]
    },
    {
      "cell_type": "code",
      "execution_count": null,
      "metadata": {
        "id": "NmOGXRknfoTa"
      },
      "outputs": [],
      "source": [
        "fig, axes = plt.subplots(nrows=2, ncols=2)"
      ]
    },
    {
      "cell_type": "markdown",
      "metadata": {
        "id": "lOTE8cSAfoTa"
      },
      "source": [
        "Ahora, la ventaja de usar la interfaz orientada a objetos es que podemos referirnos a cada uno de estos objetos.\n",
        "\n",
        "Veamos otro ejemplo en el que ejecutaremos este código nuevamente para crear dos objetos, la figura y los ejes, y en este caso, los ejes serán una matriz NumPy multidimensional con los cuatro `subplots`."
      ]
    },
    {
      "cell_type": "code",
      "execution_count": null,
      "metadata": {
        "id": "AQS-4yJQfoTa"
      },
      "outputs": [],
      "source": [
        "fig, axes = plt.subplots(nrows=2, ncols=2)\n",
        "axes[0,0].set_title('Upper Left')\n",
        "axes[0,1].set_title('Upper Right')\n",
        "axes[1,0].set_title('Lower Left')\n",
        "axes[1,1].set_title('Lower Right')\n",
        "\n",
        "for ax in axes.flat:\n",
        "    # Removemos los xticks y yticks...\n",
        "    ax.set(xticks=[], yticks=[])\n",
        "\n",
        "fig.tight_layout();"
      ]
    },
    {
      "cell_type": "markdown",
      "metadata": {
        "id": "FAo3iU60foTb"
      },
      "source": [
        "Dado que creamos el objeto `figure`, podemos usar métodos de `figure` como `tight_layout`, que se encargan de la forma en que aparecen las subplots para que no se superpongan.\n",
        "Esta es básicamente la idea detrás de la interfaz orientada a objetos: creamos los objetos y luego aplicamos métodos para cada objeto que creamos.\n",
        "\n",
        "En el siguiente diagrama, tenemos más ejemplos, así que veamos qué producimos:"
      ]
    },
    {
      "cell_type": "code",
      "execution_count": null,
      "metadata": {
        "id": "VVc9eP3qfoTb"
      },
      "outputs": [],
      "source": [
        "x = np.linspace(start=-5, stop=5, num=150)"
      ]
    },
    {
      "cell_type": "code",
      "execution_count": null,
      "metadata": {
        "id": "ALLVX6anfoTb"
      },
      "outputs": [],
      "source": [
        "# Todas las funciones en un eje\n",
        "fig, ax = plt.subplots(figsize = (7,4))\n",
        "ax.plot(x, x, label='Lineal')\n",
        "ax.plot(x, x**2,  label='Cuadratico')\n",
        "ax.plot(x, x**3, label='Cubico')\n",
        "ax.plot(x, x**4, label='4ta potencia')\n",
        "ax.legend();"
      ]
    },
    {
      "cell_type": "markdown",
      "metadata": {
        "id": "Fq-GfVzvfoTb"
      },
      "source": [
        "Producimos una figura con un solo `sublot`, en la que graficamos las primeras cuatro potencias de `x`.\n",
        "\n",
        "**Ejercicio** Escribe un script para dibujar esto en diferentes `subplots`.\n"
      ]
    },
    {
      "cell_type": "code",
      "execution_count": null,
      "metadata": {
        "id": "n0Z2lpnifoTb"
      },
      "outputs": [],
      "source": [
        "## Tu respuesta\n",
        "import numpy as np\n",
        "import matplotlib.pyplot as plt\n",
        "# Datos de ejemplo\n",
        "x = np.linspace(0, 10, 100)\n",
        "y1 = np.sin(x)\n",
        "y2 = np.cos(x)\n",
        "y3 = np.tan(x)\n",
        "\n",
        "# Configuración de los subplots\n",
        "fig, axes = plt.subplots(3, 1, figsize=(6, 8))\n",
        "\n",
        "# Subplot 1\n",
        "axes[0].plot(x, y1, color='red')\n",
        "axes[0].set_title('Seno')\n",
        "\n",
        "# Subplot 2\n",
        "axes[1].plot(x, y2, color='green')\n",
        "axes[1].set_title('Coseno')\n",
        "\n",
        "# Subplot 3\n",
        "axes[2].plot(x, y3, color='blue')\n",
        "axes[2].set_title('Tangente')\n",
        "\n",
        "# Ajustar espaciado entre subplots\n",
        "plt.tight_layout()\n",
        "\n",
        "# Mostrar los subplots\n",
        "plt.show()"
      ]
    },
    {
      "cell_type": "markdown",
      "metadata": {
        "id": "mdCUfmZ2foTb"
      },
      "source": [
        "**Ejercicio**  Escribe una script para dibujar  a las primeras diez potencias de x con un título que diga `x hasta N`, donde $N =1, \\dots, 10$."
      ]
    },
    {
      "cell_type": "code",
      "execution_count": null,
      "metadata": {
        "id": "shgnPnQlfoTb"
      },
      "outputs": [],
      "source": [
        "# Tu respuesta\n",
        "import numpy as np\n",
        "import matplotlib.pyplot as plt\n",
        "\n",
        "x = np.linspace(0, 1, 100)  # Valores de x de 0 a 1\n",
        "N = 10  # Número de potencias a graficar\n",
        "\n",
        "fig, axes = plt.subplots(nrows=2, ncols=5, figsize=(12, 6))\n",
        "fig.suptitle('x hasta N', fontsize=16)\n",
        "\n",
        "for n, ax in enumerate(axes.flat):\n",
        "    power = n + 1\n",
        "    y = x ** power\n",
        "    ax.plot(x, y)\n",
        "    ax.set_title(f'Potencia {power}')\n",
        "    ax.set_xlabel('x')\n",
        "    ax.set_ylabel(f'x^{power}')\n",
        "\n",
        "fig.tight_layout()\n",
        "plt.show()\n"
      ]
    },
    {
      "cell_type": "code",
      "execution_count": null,
      "metadata": {
        "id": "r1JzfMNufoTb"
      },
      "outputs": [],
      "source": [
        "fig, axes = plt.subplots(nrows=2, ncols=5, figsize = (14,4.5))\n",
        "for i, ax in enumerate(axes.flatten()):\n",
        "    ax.set_title(\"x hasta  {:d}\".format(i+1))\n",
        "    ax.plot(x, x**(i+1))\n",
        "fig.tight_layout();"
      ]
    },
    {
      "cell_type": "markdown",
      "metadata": {
        "id": "1SE-Dc3PfoTc"
      },
      "source": [
        "### Configuraciones comunes\n"
      ]
    },
    {
      "cell_type": "code",
      "execution_count": null,
      "metadata": {
        "id": "3ZjK-eHTfoTc"
      },
      "outputs": [],
      "source": [
        "# Generando datos\n",
        "x = np.linspace(-np.pi, np.pi, 200)\n",
        "seno, coseno = np.sin(x), np.cos(x)"
      ]
    },
    {
      "cell_type": "markdown",
      "metadata": {
        "id": "gWMgL_zZfoTc"
      },
      "source": [
        "#### Colores"
      ]
    },
    {
      "cell_type": "code",
      "execution_count": null,
      "metadata": {
        "id": "3WETLU6KfoTc"
      },
      "outputs": [],
      "source": [
        "fig, ax = plt.subplots()\n",
        "ax.plot(x, seno, color='red')\n",
        "ax.plot(x, coseno, color='#165181');"
      ]
    },
    {
      "cell_type": "markdown",
      "metadata": {
        "id": "-5Ehkg22foTc"
      },
      "source": [
        "#### Establecer límites de eje\n"
      ]
    },
    {
      "cell_type": "code",
      "execution_count": null,
      "metadata": {
        "id": "bOryN-kufoTc"
      },
      "outputs": [],
      "source": [
        "fig, ax = plt.subplots()\n",
        "ax.plot(x, seno, color='red')\n",
        "ax.plot(x, coseno, color='#165181')\n",
        "ax.set_xlim(-3.5,3.5)\n",
        "ax.set_ylim(-1.2,1.2);"
      ]
    },
    {
      "cell_type": "markdown",
      "metadata": {
        "id": "15TGDplqfoTc"
      },
      "source": [
        "#### Ticks\n",
        "\n",
        "Ticks  son los marcadores que indican puntos de datos en los ejes."
      ]
    },
    {
      "cell_type": "code",
      "execution_count": null,
      "metadata": {
        "id": "YJqLKOg_foTc"
      },
      "outputs": [],
      "source": [
        "fig, ax = plt.subplots()\n",
        "ax.plot(x, seno, color='red')\n",
        "ax.plot(x, coseno, color='#165181')\n",
        "\n",
        "ax.set_xlim(-3.5,3.5)\n",
        "ax.set_ylim(-1.2,1.2)\n",
        "\n",
        "ax.set_xticks([-np.pi, -np.pi/2, 0, np.pi/2, np.pi])\n",
        "ax.set_yticks(np.arange(-1,1.1,0.5));"
      ]
    },
    {
      "cell_type": "markdown",
      "metadata": {
        "id": "jH0HAhFqfoTc"
      },
      "source": [
        "**Ejercicio**\n",
        "Supongamos que deseas que las etiquetas del eje x aparezcan en notaciones matemáticas como `-pi` y `-pi/2`. Escribe un script utilizando los métodos `set_xticks`, `set_yticks`, `set_xticklabels` y `set_yticklabels` para cambiar y asignar nuevos valores."
      ]
    },
    {
      "cell_type": "code",
      "execution_count": null,
      "metadata": {
        "id": "cyaQAQahfoTg"
      },
      "outputs": [],
      "source": [
        "### Utiliza: [r'$-\\pi$', r'$-\\pi/2$', r'$0$', r'$+\\pi/2$', r'$+\\pi$']\n",
        "### Tu respuesta\n",
        "import numpy as np\n",
        "import matplotlib.pyplot as plt\n",
        "\n",
        "x = np.linspace(-np.pi, np.pi, 100)\n",
        "y = np.sin(x)\n",
        "\n",
        "fig, ax = plt.subplots()\n",
        "\n",
        "ax.plot(x, y)\n",
        "ax.set_xlabel('x')\n",
        "ax.set_ylabel('sin(x)')\n",
        "\n",
        "# Etiquetas personalizadas\n",
        "xticks = [-np.pi, -np.pi/2, 0, np.pi/2, np.pi]\n",
        "xticklabels = [r'$-\\pi$', r'$-\\pi/2$', r'$0$', r'$+\\pi/2$', r'$+\\pi$']\n",
        "ax.set_xticks(xticks)\n",
        "ax.set_xticklabels(xticklabels)\n",
        "\n",
        "plt.show()"
      ]
    },
    {
      "cell_type": "markdown",
      "metadata": {
        "id": "sIrTDQMSfoTg"
      },
      "source": [
        "#### Leyenda\n",
        "\n",
        "**Ejercicio:** Agrega la etiqueta de las funciones seno y coseno ubicada en la parte superior izquierda del gráfico, donde podemos identificar fácilmente cada línea por el nombre."
      ]
    },
    {
      "cell_type": "code",
      "execution_count": null,
      "metadata": {
        "id": "2Kd-5g2MfoTg"
      },
      "outputs": [],
      "source": [
        "## Tu respuesta\n",
        "import numpy as np\n",
        "import matplotlib.pyplot as plt\n",
        "\n",
        "x = np.linspace(0, 2*np.pi, 100)\n",
        "y_sin = np.sin(x)\n",
        "y_cos = np.cos(x)\n",
        "\n",
        "fig, ax = plt.subplots()\n",
        "\n",
        "ax.plot(x, y_sin, label='Seno')\n",
        "ax.plot(x, y_cos, label='Coseno')\n",
        "\n",
        "ax.legend(loc='upper left')\n",
        "\n",
        "plt.show()"
      ]
    },
    {
      "cell_type": "markdown",
      "metadata": {
        "id": "P0Uq4Fa1foTg"
      },
      "source": [
        "#### Anotaciones\n",
        "\n",
        "**Ejercicio** Hay dos funciones o métodos principales para realizar anotaciones en un gráfico. Puedes usar el método `text()` especificando la coordenada `x` y la coordenada `y` donde deseas que se muestre el texto, y el tercer argumento para este método es el texto que realmente deseas dibujar en el gráfico. Explica el resultado siguiente resultado"
      ]
    },
    {
      "cell_type": "code",
      "execution_count": null,
      "metadata": {
        "id": "BePaM4O3foTh"
      },
      "outputs": [],
      "source": [
        "fig, ax = plt.subplots()\n",
        "ax.plot(x, seno, color='green', label='Seno')\n",
        "ax.plot(x, coseno, color='#341161', label='Coseno')\n",
        "\n",
        "ax.set_xlim(-3.5,3.5)\n",
        "ax.set_ylim(-1.2,1.2)\n",
        "\n",
        "ax.set_xticks([-np.pi, -np.pi/2, 0, np.pi/2, np.pi])\n",
        "ax.set_yticks([-1,0,1])\n",
        "\n",
        "ax.set_xticklabels([r'$-\\pi$', r'$-\\pi/2$', r'$0$', r'$+\\pi/2$', r'$+\\pi$'], size=17)\n",
        "ax.set_yticklabels(['-1','0','+1'], size=17)\n",
        "\n",
        "ax.legend(loc='upper left')\n",
        "\n",
        "ax.text(-0.25,0,'(0,0)')\n",
        "ax.text(np.pi-0.25,0, r'$(\\pi,0)$', size=15)\n",
        "\n",
        "ax.annotate('Origen',\n",
        "            xy=(0, 0),\n",
        "            xytext=(1, -0.7),\n",
        "            arrowprops=dict(facecolor='blue'));"
      ]
    },
    {
      "cell_type": "code",
      "execution_count": null,
      "metadata": {
        "id": "c6amGqGQfoTh"
      },
      "outputs": [],
      "source": [
        "# Tu respuesta"
      ]
    },
    {
      "cell_type": "markdown",
      "source": [
        "En el código proporcionado, se utiliza el método `text()` y el método `annotate()` para agregar anotaciones al gráfico. A continuación, se explica el resultado de cada anotación:\n",
        "\n",
        "1. `ax.text(-0.25, 0, '(0,0)')`: Esta línea agrega una anotación de texto en la posición (-0.25, 0) del gráfico, con el texto '(0,0)'. Esto coloca el texto en la coordenada correspondiente al punto de origen (0,0) del gráfico.\n",
        "\n",
        "2. `ax.text(np.pi-0.25, 0, r'$(\\pi,0)$', size=15)`: Aquí se agrega otra anotación de texto en la posición (np.pi-0.25, 0), que corresponde al punto (\\pi,0) del gráfico. El texto mostrado es r'$(\\pi,0)$', lo que indica las coordenadas del punto. Además, se especifica el tamaño de la fuente del texto como 15.\n",
        "\n",
        "3. `ax.annotate('Origen', xy=(0, 0), xytext=(1, -0.7), arrowprops=dict(facecolor='blue'))`: Esta línea agrega una anotación con una flecha al gráfico. El texto 'Origen' se muestra en la posición (0, 0), y la anotación se desplaza a la posición (1, -0.7) utilizando los argumentos `xytext`. Además, se añade una flecha que apunta desde la posición `xytext` hacia la posición `xy` utilizando el diccionario `arrowprops`, que especifica el color de la flecha como 'blue'.\n",
        "\n",
        "En resumen, el código agrega anotaciones de texto en diferentes posiciones del gráfico, como puntos específicos y etiquetas descriptivas. Estas anotaciones proporcionan información adicional y resaltan características importantes en el gráfico."
      ],
      "metadata": {
        "id": "vlXxOGXi4Hgw"
      }
    },
    {
      "cell_type": "markdown",
      "metadata": {
        "id": "U6UKKaQ4foTh"
      },
      "source": [
        "#### Grids, líneas horizontales y verticales.\n"
      ]
    },
    {
      "cell_type": "code",
      "execution_count": null,
      "metadata": {
        "id": "AnivqW5zfoTh"
      },
      "outputs": [],
      "source": [
        "fig, ax = plt.subplots()\n",
        "ax.plot(x, seno, color='orange', label='Seno')\n",
        "ax.plot(x, coseno, color='#165181', label='Coseno')\n",
        "\n",
        "ax.set_xlim(-3.5,3.5)\n",
        "ax.set_ylim(-1.2,1.2)\n",
        "\n",
        "ax.set_xticks([-np.pi, -np.pi/2, 0, np.pi/2, np.pi])\n",
        "ax.set_yticks([-1,0,1])\n",
        "\n",
        "ax.set_xticklabels([r'$-\\pi$', r'$-\\pi/2$', r'$0$', r'$+\\pi/2$', r'$+\\pi$'], size=17)\n",
        "ax.set_yticklabels(['-1','0','+1'], size=17)\n",
        "\n",
        "ax.legend(loc='upper left')\n",
        "\n",
        "ax.text(-0.25,0,'(0,0)') # x coord, y coord,\n",
        "ax.text(np.pi-0.2,0.05, r'$(\\pi,0)$', size=15)\n",
        "\n",
        "ax.annotate('Origen',\n",
        "            xy=(0, 0), # donde la flecha apunta a la\n",
        "            xytext=(1, -0.7), # localizacion de texto\n",
        "            arrowprops=dict(facecolor='blue'));\n",
        "\n",
        "ax.axhline(0, color='black', alpha=0.9) # linea horizontal\n",
        "ax.axvline(0, color='black', alpha=0.9) #vertical\n",
        "ax.grid();"
      ]
    },
    {
      "cell_type": "markdown",
      "metadata": {
        "id": "4Z6XixoJfoTh"
      },
      "source": [
        "### Uso de funciones globales\n",
        "\n",
        "Uso de funciones globales\n",
        "\n",
        "- `plt.bar`: crea un gráfico de barras\n",
        "- `plt.scatter`:hace un diagrama de dispersión\n",
        "- `plt.boxplot`:hace un diagrama de caja y bigotes\n",
        "- `plt.hist`: hace un histograma\n",
        "- `plt.plot`: crea un gráfico de líneas"
      ]
    },
    {
      "cell_type": "markdown",
      "metadata": {
        "id": "Hjl6OeCrfoTh"
      },
      "source": [
        "#### Gráfico de barras"
      ]
    },
    {
      "cell_type": "code",
      "execution_count": null,
      "metadata": {
        "id": "mbKFcLpQfoTi"
      },
      "outputs": [],
      "source": [
        "x = np.arange(5)          # 5 estudiantes\n",
        "y = (20, 35, 30, 35, 27)  # sus mejores puntajes\n",
        "plt.bar(x,y)              # Barplot\n",
        "plt.show()"
      ]
    },
    {
      "cell_type": "markdown",
      "metadata": {
        "id": "WaL1HlWOfoTi"
      },
      "source": [
        "####  Gráfico de dispersión\n"
      ]
    },
    {
      "cell_type": "code",
      "execution_count": null,
      "metadata": {
        "id": "x6tPTDibfoTi"
      },
      "outputs": [],
      "source": [
        "plt.scatter(x,y)\n",
        "plt.show()"
      ]
    },
    {
      "cell_type": "markdown",
      "metadata": {
        "id": "-dqyyxljfoTi"
      },
      "source": [
        "#### Histogramas"
      ]
    },
    {
      "cell_type": "code",
      "execution_count": null,
      "metadata": {
        "id": "EpOToCEMfoTi"
      },
      "outputs": [],
      "source": [
        "df =pd.read_csv(\"Data/iris.csv\")\n",
        "print(\"Histograma\")\n",
        "df.hist()"
      ]
    },
    {
      "cell_type": "code",
      "execution_count": null,
      "metadata": {
        "id": "XneuDec_foTi"
      },
      "outputs": [],
      "source": [
        "print(\"Grafo de lineas\")\n",
        "df.plot()"
      ]
    },
    {
      "cell_type": "code",
      "execution_count": null,
      "metadata": {
        "id": "TSIDz_1xfoTi"
      },
      "outputs": [],
      "source": [
        "print('Grafico de cajas')\n",
        "df.boxplot()"
      ]
    },
    {
      "cell_type": "markdown",
      "metadata": {
        "id": "9BMkviFFy3zV"
      },
      "source": [
        "**Ejercicio**\n",
        "\n",
        "Realiza lo siguiente:\n",
        "\n",
        "1. Genera una muestra de 100 valores de datos espaciados uniformemente de 0 a 50\n",
        "2. Personaliza las etiquetas de los ejes, con nombres como, `Etiquetas muestrales` `etiqueta x en los ejes`, `etiqueta y en los ejes`.\n",
        "3. Agrega la leyenda y utiliza `tight_layout()` el padding adicional alrededor del borde de la figura y entre los subplots.\n",
        "\n"
      ]
    },
    {
      "cell_type": "code",
      "execution_count": null,
      "metadata": {
        "id": "DgHspoUPfoTj"
      },
      "outputs": [],
      "source": [
        "# Tu respuesta\n",
        "import matplotlib.pyplot as plt\n",
        "import numpy as np\n",
        "\n",
        "# Generar datos de muestra\n",
        "datos = np.linspace(0, 50, 100)\n",
        "\n",
        "# Crear el gráfico\n",
        "fig, ax = plt.subplots()\n",
        "\n",
        "# Graficar los datos\n",
        "ax.plot(datos, datos, label='Datos')\n",
        "\n",
        "# Personalizar etiquetas de ejes\n",
        "ax.set_xlabel('Etiqueta x en los ejes', fontsize=12)\n",
        "ax.set_ylabel('Etiqueta y en los ejes', fontsize=12)\n",
        "\n",
        "# Agregar leyenda\n",
        "ax.legend()\n",
        "\n",
        "# Ajustar el diseño del gráfico\n",
        "fig.tight_layout()\n",
        "\n",
        "# Mostrar el gráfico\n",
        "plt.show()"
      ]
    },
    {
      "cell_type": "markdown",
      "metadata": {
        "id": "h7VGzAA61Toy"
      },
      "source": [
        "Podemos usar la fábrica de `subplots` para obtener `Figure` y todos los ejes.\n",
        "\n",
        "\n",
        "```\n",
        "ax = fig.add_subplot(2,2,1) # fila-col-num\n",
        "```\n",
        "\n",
        "```\n",
        "ax = fig.add_axes([0.1,0.1,0.8,0.8])\n",
        "```\n",
        "\n",
        "Podemos usar la fábrica de `subplots` para obtener la `Figure` y todos los `Axis`."
      ]
    },
    {
      "cell_type": "code",
      "execution_count": null,
      "metadata": {
        "id": "W0PHd7zB0qm6"
      },
      "outputs": [],
      "source": [
        "fig, ax = plt.subplots()\n",
        "fig, (ax1, ax2, ax3) = plt.subplots(nrows=3, ncols=1, sharex=True, figsize=(8,4))"
      ]
    },
    {
      "cell_type": "code",
      "execution_count": null,
      "metadata": {
        "id": "pZ5Wh9xHBatW"
      },
      "outputs": [],
      "source": [
        "# Interactuando los Axes dentro de Figure\n",
        "for ax in fig.get_axes():\n",
        "    pass"
      ]
    },
    {
      "cell_type": "markdown",
      "metadata": {
        "id": "IfktOzW-B0QL"
      },
      "source": [
        "#### Diagramas de líneas: usando `ax.plot()`\n"
      ]
    },
    {
      "cell_type": "code",
      "execution_count": null,
      "metadata": {
        "id": "2dvyHpJVBk0w"
      },
      "outputs": [],
      "source": [
        "x = np.linspace(0, 20, 1000)\n",
        "y = np.sin(x)\n",
        "\n",
        "fig = plt.figure(figsize=(8,4))                        #  figure vacia y agregamos Axes\n",
        "ax = fig.add_subplot(1,1,1)                            # fila-col-num\n",
        "ax.plot(x, y, 'b-', linewidth=3, label='etiqueta muestra')\n",
        "\n",
        "ax.set_ylabel('etiqueta eje y ', fontsize=16)         # etiqueta y\n",
        "ax.set_xlabel('etiqueta eje x', fontsize=16)          # etiqueta x\n",
        "ax.legend(loc='best')\n",
        "ax.grid(True)                                          # grids\n",
        "fig.suptitle('Titulo del grafico de prueba')           # titulo\n",
        "fig.tight_layout(pad=1)\n",
        "# fig.savefig('filename.png', dpi=125)"
      ]
    },
    {
      "cell_type": "markdown",
      "metadata": {
        "id": "yZkupQppF9jR"
      },
      "source": [
        "#### Múltiples líneas sobre el mismo eje"
      ]
    },
    {
      "cell_type": "code",
      "execution_count": null,
      "metadata": {
        "id": "smgaKVNVE9Y_"
      },
      "outputs": [],
      "source": [
        "fig, ax = plt.subplots(figsize=(8,4))\n",
        "\n",
        "x1 = np.linspace(0, 100, 20)\n",
        "x2 = np.linspace(0, 100, 20)\n",
        "x3 = np.linspace(0, 100, 20)\n",
        "y1 = np.sin(x1)\n",
        "y2 = np.cos(x2)\n",
        "y3 = np.tan(x3)\n",
        "\n",
        "ax.plot(x1, y1, label='sin')\n",
        "ax.plot(x2, y2, label='cos')\n",
        "ax.plot(x3, y3, label='tan')\n",
        "\n",
        "ax.grid(True)\n",
        "ax.legend(loc='best', prop={'size':'large'})\n",
        "\n",
        "fig.suptitle('Diagrama de multiples lineas')"
      ]
    },
    {
      "cell_type": "markdown",
      "metadata": {
        "id": "jyYo6nHFGrII"
      },
      "source": [
        "#### Multiples líneas sobre diferentes ejes"
      ]
    },
    {
      "cell_type": "code",
      "execution_count": null,
      "metadata": {
        "id": "AEw_ptZ9GnVA"
      },
      "outputs": [],
      "source": [
        "# Cambiando sharex a True para usar el eje x\n",
        "fig, (ax1,ax2,ax3) = plt.subplots(nrows=3, ncols=1, sharex=False, sharey = False, figsize=(8,4))\n",
        "\n",
        "x1 = np.linspace(0, 100, 20)\n",
        "x2 = np.linspace(0, 100, 20)\n",
        "x3 = np.linspace(0, 100, 20)\n",
        "y1 = np.sin(x1)\n",
        "y2 = np.cos(x2)\n",
        "y3 = np.tan(x3)\n",
        "\n",
        "ax1.plot(x1, y1, label='sin')\n",
        "ax2.plot(x2, y2, label='cos')\n",
        "ax3.plot(x3, y3, label='tan')\n",
        "\n",
        "ax1.grid(True)\n",
        "ax2.grid(True)\n",
        "ax3.grid(True)\n",
        "\n",
        "ax1.legend(loc='best', prop={'size':'large'})\n",
        "ax2.legend(loc='best', prop={'size':'large'})\n",
        "ax3.legend(loc='best', prop={'size':'large'})\n",
        "\n",
        "fig.suptitle('Lineas en diferentes ejes')"
      ]
    },
    {
      "cell_type": "markdown",
      "metadata": {
        "id": "z06fXKokIWSw"
      },
      "source": [
        "#### Línea de control y estilo de marcador"
      ]
    },
    {
      "cell_type": "code",
      "execution_count": null,
      "metadata": {
        "id": "EgIN0BoZHboK"
      },
      "outputs": [],
      "source": [
        "fig, ax = plt.subplots(figsize=(8,4))\n",
        "N = 3\n",
        "estilos =  ['-', '--', '-.', ':']\n",
        "marcadores = list('+ox')\n",
        "x = np.linspace(0, 100, 20)\n",
        "for i in range(N):\n",
        "    y = x + x/5*i + i\n",
        "    s = estilos[i % len(estilos)]\n",
        "    m = marcadores[i % len(marcadores)]\n",
        "    ax.plot(x, y, alpha = 1, label='Line '+str(i+1)+' '+s+m,\n",
        "                  marker=m, linewidth=2, linestyle=s)\n",
        "ax.grid(True)\n",
        "ax.legend(loc='best', prop={'size':'large'})\n",
        "fig.suptitle('Diagrama de linea simple')"
      ]
    },
    {
      "cell_type": "markdown",
      "metadata": {
        "id": "yfbGhr3lKXFZ"
      },
      "source": [
        "#### Diagramas de barras: usando `ax.bar()` y `ax.barh()`\n",
        "\n",
        "Un gráfico de barras simple."
      ]
    },
    {
      "cell_type": "code",
      "execution_count": null,
      "metadata": {
        "id": "NmQS_nJVKBFQ"
      },
      "outputs": [],
      "source": [
        "N = 4\n",
        "etiquetas = list('ABCD')\n",
        "data = np.array(range(N)) + np.random.rand(N)\n",
        "\n",
        "#dibuja la data\n",
        "fig, ax = plt.subplots(figsize=(8, 3.5))\n",
        "ancho = 0.5;\n",
        "tickLocations = np.arange(N)\n",
        "rectLocations = tickLocations-(ancho/2.0)\n",
        "\n",
        "# para el color se puede usar el valor HEX del nombre del color\n",
        "ax.bar(rectLocations, data, ancho,\n",
        "       color='lightblue',\n",
        "       edgecolor='#1f10ed', linewidth=4.0)\n",
        "\n",
        "ax.set_xticks(ticks= tickLocations)\n",
        "ax.set_xticklabels(etiquetas)\n",
        "ax.set_xlim(min(tickLocations)-0.6, max(tickLocations)+0.6)\n",
        "ax.set_yticks(range(N)[1:])\n",
        "ax.set_ylim((0,N))\n",
        "ax.set_ylabel('etiqueta del eje y', fontsize=8)     # etiqueta y\n",
        "ax.set_xlabel('etiqueta del eje x', fontsize=8)     # etiqueta x\n",
        "ax.yaxis.grid(True)\n",
        "fig.suptitle(\"Grafico de barras\")\n",
        "fig.tight_layout(pad=2)"
      ]
    },
    {
      "cell_type": "markdown",
      "metadata": {
        "id": "-2JfyogsLlfS"
      },
      "source": [
        "#### Gráficos de barras horizontales"
      ]
    },
    {
      "cell_type": "code",
      "execution_count": null,
      "metadata": {
        "id": "Fg2QXxOnMxSP"
      },
      "outputs": [],
      "source": [
        "N = 4\n",
        "etiquetas = list('ABCD')\n",
        "data = np.array(range(N)) + np.random.rand(N)\n",
        "\n",
        "fig, ax = plt.subplots(figsize=(8, 3.5))\n",
        "ancho = 0.5;\n",
        "tickLocations = np.arange(N)\n",
        "rectLocations = tickLocations-(ancho/2.0)\n",
        "\n",
        "ax.barh(rectLocations, data, ancho, color='lightblue')\n",
        "ax.set_yticks(ticks= tickLocations)\n",
        "ax.set_yticklabels(etiquetas)\n",
        "ax.set_ylim(min(tickLocations)-0.6, max(tickLocations)+0.6)\n",
        "ax.xaxis.grid(True)\n",
        "\n",
        "ax.set_ylabel('etiqueta del eje y', fontsize=8)     # etiqueta y\n",
        "ax.set_xlabel('etiqueta del eje x', fontsize=8)     # etiqueta x\n",
        "\n",
        "fig.suptitle(\"Grafico de barras\")\n",
        "fig.tight_layout(pad=2)"
      ]
    },
    {
      "cell_type": "markdown",
      "metadata": {
        "id": "D7g8ysT8N7Gd"
      },
      "source": [
        "#### Gráfico de barras lado a lado"
      ]
    },
    {
      "cell_type": "code",
      "execution_count": null,
      "metadata": {
        "id": "QaMjqWPyNRwu"
      },
      "outputs": [],
      "source": [
        "# Generamos data\n",
        "pre = np.array([19, 6, 11, 9])\n",
        "post = np.array([15, 11, 9, 8])\n",
        "etiquetas=['Resumen '+x for x in list('ABCD')]\n",
        "\n",
        "# plot -izquierda - derecha\n",
        "fig, ax = plt.subplots(figsize=(8, 3.5))\n",
        "ancho = 0.4\n",
        "xlocs = np.arange(len(pre))\n",
        "ax.bar(xlocs-ancho, pre, ancho,\n",
        "       color='green', label='True')\n",
        "ax.bar(xlocs, post, ancho ,\n",
        "       color='#1f10ed', label='False')\n",
        "\n",
        "ax.set_xticks(ticks=range(len(pre)))\n",
        "ax.set_xticklabels(etiquetas)\n",
        "ax.yaxis.grid(True)\n",
        "ax.legend(loc='best')\n",
        "ax.set_ylabel('Count')\n",
        "fig.suptitle('Grafico de muestra')\n",
        "fig.tight_layout(pad=1)"
      ]
    },
    {
      "cell_type": "markdown",
      "metadata": {
        "id": "WfOYzG1hP_QT"
      },
      "source": [
        "#### Barras apiladas"
      ]
    },
    {
      "cell_type": "code",
      "execution_count": null,
      "metadata": {
        "id": "yLeHhX_WPep0"
      },
      "outputs": [],
      "source": [
        "# Generamos data\n",
        "pre = np.array([19, 6, 11, 9])\n",
        "post = np.array([15, 11, 9, 8])\n",
        "etiquetas=['Resumen '+x for x in list('ABCD')]\n",
        "\n",
        "# plot -izquierda - derecha\n",
        "fig, ax = plt.subplots(figsize=(8, 3.5))\n",
        "ancho = 0.4\n",
        "xlocs = np.arange(len(pre) + 2)\n",
        "adjlocs = xlocs[1:-1] -ancho/2.0\n",
        "ax.bar(adjlocs, pre, ancho,\n",
        "       color='grey', label='True')\n",
        "ax.bar(adjlocs, post, ancho ,\n",
        "       color='cyan', label='False', bottom=pre)\n",
        "\n",
        "ax.set_xticks(ticks=xlocs[1:-1])\n",
        "ax.set_xticklabels(etiquetas)\n",
        "ax.yaxis.grid(True)\n",
        "ax.legend(loc='best')\n",
        "ax.set_ylabel('Count')\n",
        "fig.suptitle('Grafico de muestra')\n",
        "fig.tight_layout(pad=1)"
      ]
    },
    {
      "cell_type": "markdown",
      "metadata": {
        "id": "ba5ZngCWSUpY"
      },
      "source": [
        "#### Gráfico circular usando `ax.pie()`"
      ]
    },
    {
      "cell_type": "code",
      "execution_count": null,
      "metadata": {
        "id": "t9KRYMQ6Rdsb"
      },
      "outputs": [],
      "source": [
        "data = np.array([15,8,4])\n",
        "labels = ['Ingenieria de caracteristicas', 'Ajuste del modelo', 'Construccion del modelo']\n",
        "explode = (0, 0.1, 0)\n",
        "colrs=['cyan', 'tan', 'wheat']\n",
        "# plot\n",
        "fig, ax = plt.subplots(figsize=(8, 3.5))\n",
        "ax.pie(data, explode=explode,\n",
        "       labels=labels, autopct='%1.1f%%',\n",
        "       startangle=270, colors=colrs)\n",
        "ax.axis('equal') # se esta en el circulo\n",
        "fig.suptitle(\"ML Pie\")"
      ]
    },
    {
      "cell_type": "code",
      "execution_count": null,
      "metadata": {
        "id": "vgq3Cq7HS8oD"
      },
      "outputs": [],
      "source": [
        "# ejemplo de diseño de subplots\n",
        "fig = plt.figure(figsize=(8,4))\n",
        "fig.text(x=0.01, y=0.01, s='Figure',color='#888888', ha='left', va='bottom', fontsize=20)\n",
        "\n",
        "for i in range(4):\n",
        "    # fig.add_subplot(nrows, ncols, num)\n",
        "    ax = fig.add_subplot(2, 2, i+1)\n",
        "    ax.text(x=0.01, y=0.01, s='Subplot 2 2 '+str(i+1),  color='red', ha='left', va='bottom', fontsize=20)\n",
        "    ax.set_xticks([]); ax.set_yticks([])\n",
        "ax.set_xticks([]); ax.set_yticks([])\n",
        "fig.suptitle('Subplots')"
      ]
    },
    {
      "cell_type": "markdown",
      "metadata": {
        "id": "qzuFWrSuYnME"
      },
      "source": [
        "### Valores predeterminados"
      ]
    },
    {
      "cell_type": "code",
      "execution_count": null,
      "metadata": {
        "id": "-O7HOzEEX6Ox"
      },
      "outputs": [],
      "source": [
        "print (matplotlib.matplotlib_fname())"
      ]
    },
    {
      "cell_type": "markdown",
      "metadata": {
        "id": "7wAS2MjVdRrz"
      },
      "source": [
        "Ajustes de configuración actuales."
      ]
    },
    {
      "cell_type": "code",
      "execution_count": null,
      "metadata": {
        "id": "zquCq-puZE9a"
      },
      "outputs": [],
      "source": [
        "#print(matplotlib.rcParams)"
      ]
    },
    {
      "cell_type": "code",
      "execution_count": null,
      "metadata": {
        "id": "sZ9msJAidkgZ"
      },
      "outputs": [],
      "source": [
        "# Cambiamos la configuracion por defecto\n",
        "\n",
        "\n",
        "plt.rc('figure', figsize=(8,4), dpi=125,facecolor='white', edgecolor='white')\n",
        "plt.rc('axes', facecolor='#e5e5e5',  grid=True, linewidth=1.0, axisbelow=True)\n",
        "plt.rc('grid', color='white', linestyle='-',    linewidth=2.0, alpha=1.0)\n",
        "plt.rc('xtick', direction='out')\n",
        "plt.rc('ytick', direction='out')\n",
        "plt.rc('legend', loc='best')\n",
        "\n"
      ]
    },
    {
      "cell_type": "code",
      "execution_count": null,
      "metadata": {
        "id": "qd-sPAkWdueK"
      },
      "outputs": [],
      "source": []
    }
  ],
  "metadata": {
    "colab": {
      "provenance": []
    },
    "kernelspec": {
      "display_name": "Python 3",
      "language": "python",
      "name": "python3"
    },
    "language_info": {
      "codemirror_mode": {
        "name": "ipython",
        "version": 3
      },
      "file_extension": ".py",
      "mimetype": "text/x-python",
      "name": "python",
      "nbconvert_exporter": "python",
      "pygments_lexer": "ipython3",
      "version": "3.7.10"
    }
  },
  "nbformat": 4,
  "nbformat_minor": 0
}